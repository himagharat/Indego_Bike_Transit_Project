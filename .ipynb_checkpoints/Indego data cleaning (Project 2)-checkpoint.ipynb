{
 "cells": [
  {
   "cell_type": "code",
   "execution_count": 1,
   "metadata": {},
   "outputs": [],
   "source": [
    "import pandas as pd"
   ]
  },
  {
   "cell_type": "code",
   "execution_count": 2,
   "metadata": {},
   "outputs": [],
   "source": [
    "q219 = 'Resources/indego-trips-2019-q2.csv'"
   ]
  },
  {
   "cell_type": "code",
   "execution_count": 3,
   "metadata": {},
   "outputs": [],
   "source": [
    "q219_df = pd.read_csv(q219)"
   ]
  },
  {
   "cell_type": "code",
   "execution_count": 4,
   "metadata": {},
   "outputs": [],
   "source": [
    "q219_df = q219_df[['trip_id','duration','start_station',\n",
    "                          'end_station','plan_duration','trip_route_category',\n",
    "                          'passholder_type','bike_type']]"
   ]
  },
  {
   "cell_type": "code",
   "execution_count": 5,
   "metadata": {},
   "outputs": [
    {
     "data": {
      "text/html": [
       "<div>\n",
       "<style scoped>\n",
       "    .dataframe tbody tr th:only-of-type {\n",
       "        vertical-align: middle;\n",
       "    }\n",
       "\n",
       "    .dataframe tbody tr th {\n",
       "        vertical-align: top;\n",
       "    }\n",
       "\n",
       "    .dataframe thead th {\n",
       "        text-align: right;\n",
       "    }\n",
       "</style>\n",
       "<table border=\"1\" class=\"dataframe\">\n",
       "  <thead>\n",
       "    <tr style=\"text-align: right;\">\n",
       "      <th></th>\n",
       "      <th>trip_id</th>\n",
       "      <th>duration</th>\n",
       "      <th>start_station</th>\n",
       "      <th>end_station</th>\n",
       "      <th>plan_duration</th>\n",
       "      <th>trip_route_category</th>\n",
       "      <th>passholder_type</th>\n",
       "      <th>bike_type</th>\n",
       "    </tr>\n",
       "  </thead>\n",
       "  <tbody>\n",
       "    <tr>\n",
       "      <th>0</th>\n",
       "      <td>313067326</td>\n",
       "      <td>8</td>\n",
       "      <td>3027</td>\n",
       "      <td>3119</td>\n",
       "      <td>30.0</td>\n",
       "      <td>One Way</td>\n",
       "      <td>Indego30</td>\n",
       "      <td>standard</td>\n",
       "    </tr>\n",
       "    <tr>\n",
       "      <th>1</th>\n",
       "      <td>313067325</td>\n",
       "      <td>16</td>\n",
       "      <td>3037</td>\n",
       "      <td>3053</td>\n",
       "      <td>30.0</td>\n",
       "      <td>One Way</td>\n",
       "      <td>Indego30</td>\n",
       "      <td>standard</td>\n",
       "    </tr>\n",
       "    <tr>\n",
       "      <th>2</th>\n",
       "      <td>313067324</td>\n",
       "      <td>12</td>\n",
       "      <td>3026</td>\n",
       "      <td>3157</td>\n",
       "      <td>30.0</td>\n",
       "      <td>One Way</td>\n",
       "      <td>Indego30</td>\n",
       "      <td>standard</td>\n",
       "    </tr>\n",
       "    <tr>\n",
       "      <th>3</th>\n",
       "      <td>313067323</td>\n",
       "      <td>5</td>\n",
       "      <td>3026</td>\n",
       "      <td>3007</td>\n",
       "      <td>30.0</td>\n",
       "      <td>One Way</td>\n",
       "      <td>Indego30</td>\n",
       "      <td>standard</td>\n",
       "    </tr>\n",
       "    <tr>\n",
       "      <th>4</th>\n",
       "      <td>313067322</td>\n",
       "      <td>4</td>\n",
       "      <td>3034</td>\n",
       "      <td>3068</td>\n",
       "      <td>30.0</td>\n",
       "      <td>One Way</td>\n",
       "      <td>Indego30</td>\n",
       "      <td>standard</td>\n",
       "    </tr>\n",
       "  </tbody>\n",
       "</table>\n",
       "</div>"
      ],
      "text/plain": [
       "     trip_id  duration  start_station  end_station  plan_duration  \\\n",
       "0  313067326         8           3027         3119           30.0   \n",
       "1  313067325        16           3037         3053           30.0   \n",
       "2  313067324        12           3026         3157           30.0   \n",
       "3  313067323         5           3026         3007           30.0   \n",
       "4  313067322         4           3034         3068           30.0   \n",
       "\n",
       "  trip_route_category passholder_type bike_type  \n",
       "0             One Way        Indego30  standard  \n",
       "1             One Way        Indego30  standard  \n",
       "2             One Way        Indego30  standard  \n",
       "3             One Way        Indego30  standard  \n",
       "4             One Way        Indego30  standard  "
      ]
     },
     "execution_count": 5,
     "metadata": {},
     "output_type": "execute_result"
    }
   ],
   "source": [
    "q219_df.head()"
   ]
  },
  {
   "cell_type": "code",
   "execution_count": 6,
   "metadata": {},
   "outputs": [
    {
     "data": {
      "text/plain": [
       "trip_id                206354\n",
       "duration               206354\n",
       "start_station          206354\n",
       "end_station            206354\n",
       "plan_duration          206347\n",
       "trip_route_category    206354\n",
       "passholder_type        206319\n",
       "bike_type              206354\n",
       "dtype: int64"
      ]
     },
     "execution_count": 6,
     "metadata": {},
     "output_type": "execute_result"
    }
   ],
   "source": [
    "q219_df.count()"
   ]
  },
  {
   "cell_type": "code",
   "execution_count": 24,
   "metadata": {},
   "outputs": [],
   "source": [
    "q219_df.to_csv(r'Output\\q219')"
   ]
  },
  {
   "cell_type": "code",
   "execution_count": 7,
   "metadata": {},
   "outputs": [],
   "source": [
    "q319 = 'Resources/indego-trips-2019-q3.csv'"
   ]
  },
  {
   "cell_type": "code",
   "execution_count": 8,
   "metadata": {},
   "outputs": [],
   "source": [
    "q319_df = pd.read_csv(q319)"
   ]
  },
  {
   "cell_type": "code",
   "execution_count": 9,
   "metadata": {},
   "outputs": [],
   "source": [
    "q319_df = q319_df[['trip_id','duration','start_station',\n",
    "                          'end_station','plan_duration','trip_route_category',\n",
    "                          'passholder_type','bike_type']]"
   ]
  },
  {
   "cell_type": "code",
   "execution_count": 10,
   "metadata": {},
   "outputs": [],
   "source": [
    "# q319_df.head()"
   ]
  },
  {
   "cell_type": "code",
   "execution_count": 11,
   "metadata": {},
   "outputs": [],
   "source": [
    "# df2019 = q219_df.merge(q319_df, how = 'outer', on = 'bike_type')"
   ]
  },
  {
   "cell_type": "code",
   "execution_count": 12,
   "metadata": {},
   "outputs": [
    {
     "data": {
      "text/plain": [
       "trip_id                275197\n",
       "duration               275197\n",
       "start_station          275197\n",
       "end_station            275197\n",
       "plan_duration          275197\n",
       "trip_route_category    275197\n",
       "passholder_type        275197\n",
       "bike_type              275197\n",
       "dtype: int64"
      ]
     },
     "execution_count": 12,
     "metadata": {},
     "output_type": "execute_result"
    }
   ],
   "source": [
    "q319_df.count()"
   ]
  },
  {
   "cell_type": "code",
   "execution_count": 25,
   "metadata": {},
   "outputs": [],
   "source": [
    "q319_df.to_csv(r'Output\\q319')"
   ]
  },
  {
   "cell_type": "code",
   "execution_count": 13,
   "metadata": {},
   "outputs": [],
   "source": [
    "q220 = 'Resources/indego-trips-2020-q2.csv'"
   ]
  },
  {
   "cell_type": "code",
   "execution_count": 14,
   "metadata": {},
   "outputs": [],
   "source": [
    "q220_df = pd.read_csv(q220)"
   ]
  },
  {
   "cell_type": "code",
   "execution_count": 15,
   "metadata": {},
   "outputs": [],
   "source": [
    "q220_df = q220_df[['trip_id','duration','start_station',\n",
    "                          'end_station','plan_duration','trip_route_category',\n",
    "                          'passholder_type','bike_type']]"
   ]
  },
  {
   "cell_type": "code",
   "execution_count": 16,
   "metadata": {},
   "outputs": [
    {
     "data": {
      "text/html": [
       "<div>\n",
       "<style scoped>\n",
       "    .dataframe tbody tr th:only-of-type {\n",
       "        vertical-align: middle;\n",
       "    }\n",
       "\n",
       "    .dataframe tbody tr th {\n",
       "        vertical-align: top;\n",
       "    }\n",
       "\n",
       "    .dataframe thead th {\n",
       "        text-align: right;\n",
       "    }\n",
       "</style>\n",
       "<table border=\"1\" class=\"dataframe\">\n",
       "  <thead>\n",
       "    <tr style=\"text-align: right;\">\n",
       "      <th></th>\n",
       "      <th>trip_id</th>\n",
       "      <th>duration</th>\n",
       "      <th>start_station</th>\n",
       "      <th>end_station</th>\n",
       "      <th>plan_duration</th>\n",
       "      <th>trip_route_category</th>\n",
       "      <th>passholder_type</th>\n",
       "      <th>bike_type</th>\n",
       "    </tr>\n",
       "  </thead>\n",
       "  <tbody>\n",
       "    <tr>\n",
       "      <th>0</th>\n",
       "      <td>338689875</td>\n",
       "      <td>9</td>\n",
       "      <td>3086</td>\n",
       "      <td>3163</td>\n",
       "      <td>30</td>\n",
       "      <td>One Way</td>\n",
       "      <td>Indego30</td>\n",
       "      <td>standard</td>\n",
       "    </tr>\n",
       "    <tr>\n",
       "      <th>1</th>\n",
       "      <td>338689874</td>\n",
       "      <td>2</td>\n",
       "      <td>3056</td>\n",
       "      <td>3039</td>\n",
       "      <td>30</td>\n",
       "      <td>One Way</td>\n",
       "      <td>Indego30</td>\n",
       "      <td>standard</td>\n",
       "    </tr>\n",
       "    <tr>\n",
       "      <th>2</th>\n",
       "      <td>338689873</td>\n",
       "      <td>5</td>\n",
       "      <td>3075</td>\n",
       "      <td>3200</td>\n",
       "      <td>30</td>\n",
       "      <td>One Way</td>\n",
       "      <td>Indego30</td>\n",
       "      <td>electric</td>\n",
       "    </tr>\n",
       "    <tr>\n",
       "      <th>3</th>\n",
       "      <td>338690074</td>\n",
       "      <td>19</td>\n",
       "      <td>3101</td>\n",
       "      <td>3009</td>\n",
       "      <td>30</td>\n",
       "      <td>One Way</td>\n",
       "      <td>Indego30</td>\n",
       "      <td>standard</td>\n",
       "    </tr>\n",
       "    <tr>\n",
       "      <th>4</th>\n",
       "      <td>338690073</td>\n",
       "      <td>6</td>\n",
       "      <td>3121</td>\n",
       "      <td>3039</td>\n",
       "      <td>30</td>\n",
       "      <td>One Way</td>\n",
       "      <td>Indego30</td>\n",
       "      <td>electric</td>\n",
       "    </tr>\n",
       "  </tbody>\n",
       "</table>\n",
       "</div>"
      ],
      "text/plain": [
       "     trip_id  duration  start_station  end_station  plan_duration  \\\n",
       "0  338689875         9           3086         3163             30   \n",
       "1  338689874         2           3056         3039             30   \n",
       "2  338689873         5           3075         3200             30   \n",
       "3  338690074        19           3101         3009             30   \n",
       "4  338690073         6           3121         3039             30   \n",
       "\n",
       "  trip_route_category passholder_type bike_type  \n",
       "0             One Way        Indego30  standard  \n",
       "1             One Way        Indego30  standard  \n",
       "2             One Way        Indego30  electric  \n",
       "3             One Way        Indego30  standard  \n",
       "4             One Way        Indego30  electric  "
      ]
     },
     "execution_count": 16,
     "metadata": {},
     "output_type": "execute_result"
    }
   ],
   "source": [
    "q220_df.head()"
   ]
  },
  {
   "cell_type": "code",
   "execution_count": 17,
   "metadata": {},
   "outputs": [
    {
     "data": {
      "text/plain": [
       "trip_id                186586\n",
       "duration               186586\n",
       "start_station          186586\n",
       "end_station            186586\n",
       "plan_duration          186586\n",
       "trip_route_category    186586\n",
       "passholder_type        186586\n",
       "bike_type              186586\n",
       "dtype: int64"
      ]
     },
     "execution_count": 17,
     "metadata": {},
     "output_type": "execute_result"
    }
   ],
   "source": [
    "q220_df.count()"
   ]
  },
  {
   "cell_type": "code",
   "execution_count": 26,
   "metadata": {},
   "outputs": [],
   "source": [
    "q220_df.to_csv(r'Output\\q220')"
   ]
  },
  {
   "cell_type": "code",
   "execution_count": 18,
   "metadata": {},
   "outputs": [],
   "source": [
    "q320 = 'Resources/indego-trips-2020-q3.csv'"
   ]
  },
  {
   "cell_type": "code",
   "execution_count": 19,
   "metadata": {},
   "outputs": [
    {
     "name": "stderr",
     "output_type": "stream",
     "text": [
      "/Users/kscomputer/.local/lib/python3.6/site-packages/IPython/core/interactiveshell.py:3072: DtypeWarning: Columns (10) have mixed types.Specify dtype option on import or set low_memory=False.\n",
      "  interactivity=interactivity, compiler=compiler, result=result)\n"
     ]
    }
   ],
   "source": [
    "q320_df = pd.read_csv(q320)"
   ]
  },
  {
   "cell_type": "code",
   "execution_count": 20,
   "metadata": {},
   "outputs": [],
   "source": [
    "q320_df = q320_df[['trip_id','duration','start_station',\n",
    "                          'end_station','plan_duration','trip_route_category',\n",
    "                          'passholder_type','bike_type']]"
   ]
  },
  {
   "cell_type": "code",
   "execution_count": 21,
   "metadata": {},
   "outputs": [
    {
     "data": {
      "text/html": [
       "<div>\n",
       "<style scoped>\n",
       "    .dataframe tbody tr th:only-of-type {\n",
       "        vertical-align: middle;\n",
       "    }\n",
       "\n",
       "    .dataframe tbody tr th {\n",
       "        vertical-align: top;\n",
       "    }\n",
       "\n",
       "    .dataframe thead th {\n",
       "        text-align: right;\n",
       "    }\n",
       "</style>\n",
       "<table border=\"1\" class=\"dataframe\">\n",
       "  <thead>\n",
       "    <tr style=\"text-align: right;\">\n",
       "      <th></th>\n",
       "      <th>trip_id</th>\n",
       "      <th>duration</th>\n",
       "      <th>start_station</th>\n",
       "      <th>end_station</th>\n",
       "      <th>plan_duration</th>\n",
       "      <th>trip_route_category</th>\n",
       "      <th>passholder_type</th>\n",
       "      <th>bike_type</th>\n",
       "    </tr>\n",
       "  </thead>\n",
       "  <tbody>\n",
       "    <tr>\n",
       "      <th>0</th>\n",
       "      <td>345127322</td>\n",
       "      <td>10</td>\n",
       "      <td>3021</td>\n",
       "      <td>3051</td>\n",
       "      <td>365</td>\n",
       "      <td>One Way</td>\n",
       "      <td>Indego365</td>\n",
       "      <td>standard</td>\n",
       "    </tr>\n",
       "    <tr>\n",
       "      <th>1</th>\n",
       "      <td>345127320</td>\n",
       "      <td>112</td>\n",
       "      <td>3067</td>\n",
       "      <td>3104</td>\n",
       "      <td>30</td>\n",
       "      <td>One Way</td>\n",
       "      <td>Indego30</td>\n",
       "      <td>electric</td>\n",
       "    </tr>\n",
       "    <tr>\n",
       "      <th>2</th>\n",
       "      <td>345127318</td>\n",
       "      <td>111</td>\n",
       "      <td>3067</td>\n",
       "      <td>3104</td>\n",
       "      <td>30</td>\n",
       "      <td>One Way</td>\n",
       "      <td>Indego30</td>\n",
       "      <td>electric</td>\n",
       "    </tr>\n",
       "    <tr>\n",
       "      <th>3</th>\n",
       "      <td>345127315</td>\n",
       "      <td>3</td>\n",
       "      <td>3187</td>\n",
       "      <td>3168</td>\n",
       "      <td>30</td>\n",
       "      <td>One Way</td>\n",
       "      <td>Indego30</td>\n",
       "      <td>standard</td>\n",
       "    </tr>\n",
       "    <tr>\n",
       "      <th>4</th>\n",
       "      <td>345127313</td>\n",
       "      <td>42</td>\n",
       "      <td>3056</td>\n",
       "      <td>3017</td>\n",
       "      <td>1</td>\n",
       "      <td>One Way</td>\n",
       "      <td>Day Pass</td>\n",
       "      <td>electric</td>\n",
       "    </tr>\n",
       "  </tbody>\n",
       "</table>\n",
       "</div>"
      ],
      "text/plain": [
       "     trip_id  duration  start_station  end_station  plan_duration  \\\n",
       "0  345127322        10           3021         3051            365   \n",
       "1  345127320       112           3067         3104             30   \n",
       "2  345127318       111           3067         3104             30   \n",
       "3  345127315         3           3187         3168             30   \n",
       "4  345127313        42           3056         3017              1   \n",
       "\n",
       "  trip_route_category passholder_type bike_type  \n",
       "0             One Way       Indego365  standard  \n",
       "1             One Way        Indego30  electric  \n",
       "2             One Way        Indego30  electric  \n",
       "3             One Way        Indego30  standard  \n",
       "4             One Way        Day Pass  electric  "
      ]
     },
     "execution_count": 21,
     "metadata": {},
     "output_type": "execute_result"
    }
   ],
   "source": [
    "q320_df.head()"
   ]
  },
  {
   "cell_type": "code",
   "execution_count": 22,
   "metadata": {},
   "outputs": [
    {
     "data": {
      "text/plain": [
       "trip_id                269985\n",
       "duration               269985\n",
       "start_station          269985\n",
       "end_station            269985\n",
       "plan_duration          269985\n",
       "trip_route_category    269985\n",
       "passholder_type        269985\n",
       "bike_type              269985\n",
       "dtype: int64"
      ]
     },
     "execution_count": 22,
     "metadata": {},
     "output_type": "execute_result"
    }
   ],
   "source": [
    "q320_df.count()"
   ]
  },
  {
   "cell_type": "code",
   "execution_count": 27,
   "metadata": {},
   "outputs": [],
   "source": [
    "q320_df.to_csv(r'Output\\q320')"
   ]
  },
  {
   "cell_type": "code",
   "execution_count": null,
   "metadata": {},
   "outputs": [],
   "source": []
  },
  {
   "cell_type": "code",
   "execution_count": null,
   "metadata": {},
   "outputs": [],
   "source": []
  },
  {
   "cell_type": "code",
   "execution_count": null,
   "metadata": {},
   "outputs": [],
   "source": []
  }
 ],
 "metadata": {
  "kernelspec": {
   "display_name": "PythonDataUPenn",
   "language": "python",
   "name": "pythondataupenn"
  },
  "language_info": {
   "codemirror_mode": {
    "name": "ipython",
    "version": 3
   },
   "file_extension": ".py",
   "mimetype": "text/x-python",
   "name": "python",
   "nbconvert_exporter": "python",
   "pygments_lexer": "ipython3",
   "version": "3.6.10"
  }
 },
 "nbformat": 4,
 "nbformat_minor": 4
}
