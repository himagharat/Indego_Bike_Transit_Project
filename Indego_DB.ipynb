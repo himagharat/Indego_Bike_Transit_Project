{
 "cells": [
  {
   "cell_type": "markdown",
   "metadata": {},
   "source": [
    "# Step 2 - Create Database with Pymongo"
   ]
  },
  {
   "cell_type": "code",
   "execution_count": 1,
   "metadata": {},
   "outputs": [],
   "source": [
    "# Import Dependencies \n",
    "import pandas as pd\n",
    "import pymongo"
   ]
  },
  {
   "cell_type": "markdown",
   "metadata": {},
   "source": [
    "## DATA COLLECTION"
   ]
  },
  {
   "cell_type": "code",
   "execution_count": 2,
   "metadata": {},
   "outputs": [
    {
     "name": "stdout",
     "output_type": "stream",
     "text": [
      "calculating.... Output/q219.csv\n",
      "calculating.... Output/q319.csv\n",
      "calculating.... Output/q220.csv\n",
      "calculating.... Output/q320.csv\n"
     ]
    }
   ],
   "source": [
    "files = ['Output/q219.csv','Output/q319.csv','Output/q220.csv','Output/q320.csv']\n",
    "averages = []\n",
    "lengths = []\n",
    "trips = []\n",
    "passholder_type = []\n",
    "bike_type = []\n",
    "for file in files:\n",
    "    \n",
    "    data_df = pd.read_csv(file, index_col=None)\n",
    "    averages.append(data_df['duration'].mean())\n",
    "    lengths.append(len(data_df))\n",
    "    trips.append(data_df['trip_route_category'].value_counts())\n",
    "    passholder_type.append(data_df['passholder_type'].value_counts())\n",
    "    bike_type.append(data_df['bike_type'].value_counts())\n",
    "    print(\"calculating....\", file)\n",
    "    \n"
   ]
  },
  {
   "cell_type": "code",
   "execution_count": 3,
   "metadata": {},
   "outputs": [
    {
     "data": {
      "text/html": [
       "<div>\n",
       "<style scoped>\n",
       "    .dataframe tbody tr th:only-of-type {\n",
       "        vertical-align: middle;\n",
       "    }\n",
       "\n",
       "    .dataframe tbody tr th {\n",
       "        vertical-align: top;\n",
       "    }\n",
       "\n",
       "    .dataframe thead th {\n",
       "        text-align: right;\n",
       "    }\n",
       "</style>\n",
       "<table border=\"1\" class=\"dataframe\">\n",
       "  <thead>\n",
       "    <tr style=\"text-align: right;\">\n",
       "      <th></th>\n",
       "      <th>Q219</th>\n",
       "      <th>Q319</th>\n",
       "      <th>Q220</th>\n",
       "      <th>Q320</th>\n",
       "    </tr>\n",
       "  </thead>\n",
       "  <tbody>\n",
       "    <tr>\n",
       "      <th>One Way</th>\n",
       "      <td>189886</td>\n",
       "      <td>253109</td>\n",
       "      <td>147422</td>\n",
       "      <td>233699</td>\n",
       "    </tr>\n",
       "    <tr>\n",
       "      <th>Round Trip</th>\n",
       "      <td>16468</td>\n",
       "      <td>22088</td>\n",
       "      <td>39164</td>\n",
       "      <td>36286</td>\n",
       "    </tr>\n",
       "  </tbody>\n",
       "</table>\n",
       "</div>"
      ],
      "text/plain": [
       "              Q219    Q319    Q220    Q320\n",
       "One Way     189886  253109  147422  233699\n",
       "Round Trip   16468   22088   39164   36286"
      ]
     },
     "execution_count": 3,
     "metadata": {},
     "output_type": "execute_result"
    }
   ],
   "source": [
    "trips_df = pd.DataFrame(trips).T\n",
    "trips_df.columns =[ \"Q219\",\"Q319\",\"Q220\",\"Q320\"]\n",
    "trips_df.head()"
   ]
  },
  {
   "cell_type": "code",
   "execution_count": 4,
   "metadata": {},
   "outputs": [
    {
     "data": {
      "text/html": [
       "<div>\n",
       "<style scoped>\n",
       "    .dataframe tbody tr th:only-of-type {\n",
       "        vertical-align: middle;\n",
       "    }\n",
       "\n",
       "    .dataframe tbody tr th {\n",
       "        vertical-align: top;\n",
       "    }\n",
       "\n",
       "    .dataframe thead th {\n",
       "        text-align: right;\n",
       "    }\n",
       "</style>\n",
       "<table border=\"1\" class=\"dataframe\">\n",
       "  <thead>\n",
       "    <tr style=\"text-align: right;\">\n",
       "      <th></th>\n",
       "      <th>Q219</th>\n",
       "      <th>Q319</th>\n",
       "      <th>Q220</th>\n",
       "      <th>Q320</th>\n",
       "    </tr>\n",
       "  </thead>\n",
       "  <tbody>\n",
       "    <tr>\n",
       "      <th>Indego30</th>\n",
       "      <td>133344.0</td>\n",
       "      <td>193213.0</td>\n",
       "      <td>129905.0</td>\n",
       "      <td>203931.0</td>\n",
       "    </tr>\n",
       "    <tr>\n",
       "      <th>Indego365</th>\n",
       "      <td>37843.0</td>\n",
       "      <td>47471.0</td>\n",
       "      <td>18515.0</td>\n",
       "      <td>30524.0</td>\n",
       "    </tr>\n",
       "    <tr>\n",
       "      <th>Day Pass</th>\n",
       "      <td>34197.0</td>\n",
       "      <td>34458.0</td>\n",
       "      <td>38165.0</td>\n",
       "      <td>35530.0</td>\n",
       "    </tr>\n",
       "    <tr>\n",
       "      <th>IndegoFlex</th>\n",
       "      <td>851.0</td>\n",
       "      <td>55.0</td>\n",
       "      <td>1.0</td>\n",
       "      <td>NaN</td>\n",
       "    </tr>\n",
       "    <tr>\n",
       "      <th>Walk-up</th>\n",
       "      <td>84.0</td>\n",
       "      <td>NaN</td>\n",
       "      <td>NaN</td>\n",
       "      <td>NaN</td>\n",
       "    </tr>\n",
       "  </tbody>\n",
       "</table>\n",
       "</div>"
      ],
      "text/plain": [
       "                Q219      Q319      Q220      Q320\n",
       "Indego30    133344.0  193213.0  129905.0  203931.0\n",
       "Indego365    37843.0   47471.0   18515.0   30524.0\n",
       "Day Pass     34197.0   34458.0   38165.0   35530.0\n",
       "IndegoFlex     851.0      55.0       1.0       NaN\n",
       "Walk-up         84.0       NaN       NaN       NaN"
      ]
     },
     "execution_count": 4,
     "metadata": {},
     "output_type": "execute_result"
    }
   ],
   "source": [
    "passholder_type_df = pd.DataFrame(passholder_type).T\n",
    "passholder_type_df.columns =[ \"Q219\",\"Q319\",\"Q220\",\"Q320\"]\n",
    "passholder_type_df.head()"
   ]
  },
  {
   "cell_type": "code",
   "execution_count": 5,
   "metadata": {},
   "outputs": [
    {
     "data": {
      "text/html": [
       "<div>\n",
       "<style scoped>\n",
       "    .dataframe tbody tr th:only-of-type {\n",
       "        vertical-align: middle;\n",
       "    }\n",
       "\n",
       "    .dataframe tbody tr th {\n",
       "        vertical-align: top;\n",
       "    }\n",
       "\n",
       "    .dataframe thead th {\n",
       "        text-align: right;\n",
       "    }\n",
       "</style>\n",
       "<table border=\"1\" class=\"dataframe\">\n",
       "  <thead>\n",
       "    <tr style=\"text-align: right;\">\n",
       "      <th></th>\n",
       "      <th>Q219</th>\n",
       "      <th>Q319</th>\n",
       "      <th>Q220</th>\n",
       "      <th>Q320</th>\n",
       "    </tr>\n",
       "  </thead>\n",
       "  <tbody>\n",
       "    <tr>\n",
       "      <th>standard</th>\n",
       "      <td>193132</td>\n",
       "      <td>215693</td>\n",
       "      <td>138198</td>\n",
       "      <td>209025</td>\n",
       "    </tr>\n",
       "    <tr>\n",
       "      <th>electric</th>\n",
       "      <td>13222</td>\n",
       "      <td>59504</td>\n",
       "      <td>48388</td>\n",
       "      <td>60960</td>\n",
       "    </tr>\n",
       "  </tbody>\n",
       "</table>\n",
       "</div>"
      ],
      "text/plain": [
       "            Q219    Q319    Q220    Q320\n",
       "standard  193132  215693  138198  209025\n",
       "electric   13222   59504   48388   60960"
      ]
     },
     "execution_count": 5,
     "metadata": {},
     "output_type": "execute_result"
    }
   ],
   "source": [
    "bike_type_df = pd.DataFrame(bike_type).T\n",
    "bike_type_df.columns =[ \"Q219\",\"Q319\",\"Q220\",\"Q320\"]\n",
    "bike_type_df.head()"
   ]
  },
  {
   "cell_type": "code",
   "execution_count": 6,
   "metadata": {},
   "outputs": [
    {
     "data": {
      "text/html": [
       "<div>\n",
       "<style scoped>\n",
       "    .dataframe tbody tr th:only-of-type {\n",
       "        vertical-align: middle;\n",
       "    }\n",
       "\n",
       "    .dataframe tbody tr th {\n",
       "        vertical-align: top;\n",
       "    }\n",
       "\n",
       "    .dataframe thead th {\n",
       "        text-align: right;\n",
       "    }\n",
       "</style>\n",
       "<table border=\"1\" class=\"dataframe\">\n",
       "  <thead>\n",
       "    <tr style=\"text-align: right;\">\n",
       "      <th></th>\n",
       "      <th>Q219</th>\n",
       "      <th>Q319</th>\n",
       "      <th>Q220</th>\n",
       "      <th>Q320</th>\n",
       "    </tr>\n",
       "  </thead>\n",
       "  <tbody>\n",
       "    <tr>\n",
       "      <th>0</th>\n",
       "      <td>23.67407</td>\n",
       "      <td>26.047871</td>\n",
       "      <td>39.236009</td>\n",
       "      <td>27.292601</td>\n",
       "    </tr>\n",
       "    <tr>\n",
       "      <th>1</th>\n",
       "      <td>206354.00000</td>\n",
       "      <td>275197.000000</td>\n",
       "      <td>186586.000000</td>\n",
       "      <td>269985.000000</td>\n",
       "    </tr>\n",
       "  </tbody>\n",
       "</table>\n",
       "</div>"
      ],
      "text/plain": [
       "           Q219           Q319           Q220           Q320\n",
       "0      23.67407      26.047871      39.236009      27.292601\n",
       "1  206354.00000  275197.000000  186586.000000  269985.000000"
      ]
     },
     "execution_count": 6,
     "metadata": {},
     "output_type": "execute_result"
    }
   ],
   "source": [
    "duration_avg = pd.DataFrame([averages, lengths])\n",
    "duration_avg.columns =[\"Q219\",\"Q319\",\"Q220\",\"Q320\"]\n",
    "duration_avg.head()"
   ]
  },
  {
   "cell_type": "code",
   "execution_count": 7,
   "metadata": {},
   "outputs": [],
   "source": [
    "duration_avg = duration_avg.rename(index ={0:'Average_Duration', 1:'Total_Trips'})"
   ]
  },
  {
   "cell_type": "code",
   "execution_count": 8,
   "metadata": {},
   "outputs": [],
   "source": [
    "step1_df = passholder_type_df.append(bike_type_df)"
   ]
  },
  {
   "cell_type": "code",
   "execution_count": 9,
   "metadata": {},
   "outputs": [],
   "source": [
    "step2_df = step1_df.append(duration_avg)"
   ]
  },
  {
   "cell_type": "code",
   "execution_count": 10,
   "metadata": {},
   "outputs": [],
   "source": [
    "summary_df = step2_df.append(trips_df)"
   ]
  },
  {
   "cell_type": "code",
   "execution_count": 11,
   "metadata": {},
   "outputs": [],
   "source": [
    "summary_df = summary_df.reset_index()"
   ]
  },
  {
   "cell_type": "code",
   "execution_count": 17,
   "metadata": {},
   "outputs": [],
   "source": [
    "summary_df = summary_df.rename(columns={'index':'labels'})"
   ]
  },
  {
   "cell_type": "code",
   "execution_count": 18,
   "metadata": {},
   "outputs": [
    {
     "data": {
      "text/html": [
       "<div>\n",
       "<style scoped>\n",
       "    .dataframe tbody tr th:only-of-type {\n",
       "        vertical-align: middle;\n",
       "    }\n",
       "\n",
       "    .dataframe tbody tr th {\n",
       "        vertical-align: top;\n",
       "    }\n",
       "\n",
       "    .dataframe thead th {\n",
       "        text-align: right;\n",
       "    }\n",
       "</style>\n",
       "<table border=\"1\" class=\"dataframe\">\n",
       "  <thead>\n",
       "    <tr style=\"text-align: right;\">\n",
       "      <th></th>\n",
       "      <th>labels</th>\n",
       "      <th>Q219</th>\n",
       "      <th>Q319</th>\n",
       "      <th>Q220</th>\n",
       "      <th>Q320</th>\n",
       "    </tr>\n",
       "  </thead>\n",
       "  <tbody>\n",
       "    <tr>\n",
       "      <th>0</th>\n",
       "      <td>Indego30</td>\n",
       "      <td>133344.0</td>\n",
       "      <td>193213.0</td>\n",
       "      <td>129905.0</td>\n",
       "      <td>203931.0</td>\n",
       "    </tr>\n",
       "    <tr>\n",
       "      <th>1</th>\n",
       "      <td>Indego365</td>\n",
       "      <td>37843.0</td>\n",
       "      <td>47471.0</td>\n",
       "      <td>18515.0</td>\n",
       "      <td>30524.0</td>\n",
       "    </tr>\n",
       "    <tr>\n",
       "      <th>2</th>\n",
       "      <td>Day Pass</td>\n",
       "      <td>34197.0</td>\n",
       "      <td>34458.0</td>\n",
       "      <td>38165.0</td>\n",
       "      <td>35530.0</td>\n",
       "    </tr>\n",
       "    <tr>\n",
       "      <th>3</th>\n",
       "      <td>IndegoFlex</td>\n",
       "      <td>851.0</td>\n",
       "      <td>55.0</td>\n",
       "      <td>1.0</td>\n",
       "      <td>NaN</td>\n",
       "    </tr>\n",
       "    <tr>\n",
       "      <th>4</th>\n",
       "      <td>Walk-up</td>\n",
       "      <td>84.0</td>\n",
       "      <td>NaN</td>\n",
       "      <td>NaN</td>\n",
       "      <td>NaN</td>\n",
       "    </tr>\n",
       "  </tbody>\n",
       "</table>\n",
       "</div>"
      ],
      "text/plain": [
       "       labels      Q219      Q319      Q220      Q320\n",
       "0    Indego30  133344.0  193213.0  129905.0  203931.0\n",
       "1   Indego365   37843.0   47471.0   18515.0   30524.0\n",
       "2    Day Pass   34197.0   34458.0   38165.0   35530.0\n",
       "3  IndegoFlex     851.0      55.0       1.0       NaN\n",
       "4     Walk-up      84.0       NaN       NaN       NaN"
      ]
     },
     "execution_count": 18,
     "metadata": {},
     "output_type": "execute_result"
    }
   ],
   "source": [
    "summary_df.head()"
   ]
  },
  {
   "cell_type": "code",
   "execution_count": 13,
   "metadata": {},
   "outputs": [],
   "source": [
    "#summary_df.to_csv('Output/summary_correct.csv')"
   ]
  },
  {
   "cell_type": "markdown",
   "metadata": {},
   "source": [
    "# Create Database Using Pymongo"
   ]
  },
  {
   "cell_type": "code",
   "execution_count": 19,
   "metadata": {
    "scrolled": true
   },
   "outputs": [],
   "source": [
    "#Establish connection to mongo db\n",
    "conn = 'mongodb://localhost:27017'\n",
    "client = pymongo.MongoClient(conn)"
   ]
  },
  {
   "cell_type": "code",
   "execution_count": 20,
   "metadata": {},
   "outputs": [],
   "source": [
    "#Create the database indego_db\n",
    "db = client.indego_db"
   ]
  },
  {
   "cell_type": "code",
   "execution_count": 21,
   "metadata": {},
   "outputs": [],
   "source": [
    "#Setup collections, if collections exist drop them start anew, \n",
    "db.summary.drop()"
   ]
  },
  {
   "cell_type": "code",
   "execution_count": null,
   "metadata": {},
   "outputs": [],
   "source": []
  },
  {
   "cell_type": "markdown",
   "metadata": {},
   "source": [
    "## Summary convert"
   ]
  },
  {
   "cell_type": "code",
   "execution_count": 22,
   "metadata": {},
   "outputs": [],
   "source": [
    "#Convert pandas dataframe to dictionary, orient as a record, keeps a copy\n",
    "df_dict = summary_df.to_dict(orient='records').copy()"
   ]
  },
  {
   "cell_type": "code",
   "execution_count": 23,
   "metadata": {},
   "outputs": [
    {
     "data": {
      "text/plain": [
       "<pymongo.results.InsertManyResult at 0x7ff7922f0648>"
      ]
     },
     "execution_count": 23,
     "metadata": {},
     "output_type": "execute_result"
    }
   ],
   "source": [
    "#Insert the dictionary into collection\n",
    "db.summary.insert_many(df_dict)"
   ]
  },
  {
   "cell_type": "code",
   "execution_count": 24,
   "metadata": {
    "scrolled": true
   },
   "outputs": [
    {
     "name": "stdout",
     "output_type": "stream",
     "text": [
      "{'_id': ObjectId('601b4ae7c12bea86bd79e203'), 'labels': 'Indego30', 'Q219': 133344.0, 'Q319': 193213.0, 'Q220': 129905.0, 'Q320': 203931.0}\n",
      "{'_id': ObjectId('601b4ae7c12bea86bd79e204'), 'labels': 'Indego365', 'Q219': 37843.0, 'Q319': 47471.0, 'Q220': 18515.0, 'Q320': 30524.0}\n"
     ]
    }
   ],
   "source": [
    "#print documents\n",
    "cursor = db.summary.find({},limit=2)\n",
    "for document in cursor:\n",
    "    print(document)"
   ]
  },
  {
   "cell_type": "markdown",
   "metadata": {},
   "source": [
    "## Read Collection into a Dataframe"
   ]
  },
  {
   "cell_type": "code",
   "execution_count": null,
   "metadata": {},
   "outputs": [],
   "source": [
    "#Read tripQ219 collection from mongodb into a dataframe tripQ219_df\n",
    "summary_df = pd.DataFrame(list(db.summary.find({})))\n",
    "summary_df"
   ]
  },
  {
   "cell_type": "code",
   "execution_count": null,
   "metadata": {},
   "outputs": [],
   "source": [
    "db.summary.find({})"
   ]
  },
  {
   "cell_type": "code",
   "execution_count": null,
   "metadata": {},
   "outputs": [],
   "source": [
    "#\n",
    "\n",
    "data = []\n",
    "\n",
    "for doc in list(db.summary.find()):\n",
    "    row = {}\n",
    "    row['labels'] = doc['labels']\n",
    "    row['Q219'] = doc['Q219']\n",
    "    row['Q220'] = doc['Q220']\n",
    "    row['Q320'] = doc['Q320']\n",
    "    row['Q319'] = doc['Q319']\n",
    "    data.append(row)\n",
    "\n",
    "print(data)\n",
    "    "
   ]
  },
  {
   "cell_type": "code",
   "execution_count": null,
   "metadata": {},
   "outputs": [],
   "source": [
    "list(db.summary.find())"
   ]
  },
  {
   "cell_type": "code",
   "execution_count": null,
   "metadata": {},
   "outputs": [],
   "source": []
  }
 ],
 "metadata": {
  "kernelspec": {
   "display_name": "Python 3",
   "language": "python",
   "name": "python3"
  },
  "language_info": {
   "codemirror_mode": {
    "name": "ipython",
    "version": 3
   },
   "file_extension": ".py",
   "mimetype": "text/x-python",
   "name": "python",
   "nbconvert_exporter": "python",
   "pygments_lexer": "ipython3",
   "version": "3.6.10"
  }
 },
 "nbformat": 4,
 "nbformat_minor": 4
}
