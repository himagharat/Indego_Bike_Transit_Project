{
 "cells": [
  {
   "cell_type": "markdown",
   "metadata": {},
   "source": [
    "# Step 2 - Create Database with Pymongo"
   ]
  },
  {
   "cell_type": "code",
   "execution_count": 1,
   "metadata": {},
   "outputs": [],
   "source": [
    "# Import Dependencies \n",
    "import pandas as pd\n",
    "import pymongo"
   ]
  },
  {
   "cell_type": "markdown",
   "metadata": {},
   "source": [
    "## Data Q2 of 2019"
   ]
  },
  {
   "cell_type": "code",
   "execution_count": 2,
   "metadata": {},
   "outputs": [
    {
     "data": {
      "text/html": [
       "<div>\n",
       "<style scoped>\n",
       "    .dataframe tbody tr th:only-of-type {\n",
       "        vertical-align: middle;\n",
       "    }\n",
       "\n",
       "    .dataframe tbody tr th {\n",
       "        vertical-align: top;\n",
       "    }\n",
       "\n",
       "    .dataframe thead th {\n",
       "        text-align: right;\n",
       "    }\n",
       "</style>\n",
       "<table border=\"1\" class=\"dataframe\">\n",
       "  <thead>\n",
       "    <tr style=\"text-align: right;\">\n",
       "      <th></th>\n",
       "      <th>trip_id</th>\n",
       "      <th>duration</th>\n",
       "      <th>start_station</th>\n",
       "      <th>end_station</th>\n",
       "      <th>plan_duration</th>\n",
       "      <th>trip_route_category</th>\n",
       "      <th>passholder_type</th>\n",
       "      <th>bike_type</th>\n",
       "    </tr>\n",
       "  </thead>\n",
       "  <tbody>\n",
       "    <tr>\n",
       "      <th>0</th>\n",
       "      <td>313067326</td>\n",
       "      <td>8</td>\n",
       "      <td>3027</td>\n",
       "      <td>3119</td>\n",
       "      <td>30.0</td>\n",
       "      <td>One Way</td>\n",
       "      <td>Indego30</td>\n",
       "      <td>standard</td>\n",
       "    </tr>\n",
       "    <tr>\n",
       "      <th>1</th>\n",
       "      <td>313067325</td>\n",
       "      <td>16</td>\n",
       "      <td>3037</td>\n",
       "      <td>3053</td>\n",
       "      <td>30.0</td>\n",
       "      <td>One Way</td>\n",
       "      <td>Indego30</td>\n",
       "      <td>standard</td>\n",
       "    </tr>\n",
       "    <tr>\n",
       "      <th>2</th>\n",
       "      <td>313067324</td>\n",
       "      <td>12</td>\n",
       "      <td>3026</td>\n",
       "      <td>3157</td>\n",
       "      <td>30.0</td>\n",
       "      <td>One Way</td>\n",
       "      <td>Indego30</td>\n",
       "      <td>standard</td>\n",
       "    </tr>\n",
       "    <tr>\n",
       "      <th>3</th>\n",
       "      <td>313067323</td>\n",
       "      <td>5</td>\n",
       "      <td>3026</td>\n",
       "      <td>3007</td>\n",
       "      <td>30.0</td>\n",
       "      <td>One Way</td>\n",
       "      <td>Indego30</td>\n",
       "      <td>standard</td>\n",
       "    </tr>\n",
       "    <tr>\n",
       "      <th>4</th>\n",
       "      <td>313067322</td>\n",
       "      <td>4</td>\n",
       "      <td>3034</td>\n",
       "      <td>3068</td>\n",
       "      <td>30.0</td>\n",
       "      <td>One Way</td>\n",
       "      <td>Indego30</td>\n",
       "      <td>standard</td>\n",
       "    </tr>\n",
       "  </tbody>\n",
       "</table>\n",
       "</div>"
      ],
      "text/plain": [
       "     trip_id  duration  start_station  end_station  plan_duration  \\\n",
       "0  313067326         8           3027         3119           30.0   \n",
       "1  313067325        16           3037         3053           30.0   \n",
       "2  313067324        12           3026         3157           30.0   \n",
       "3  313067323         5           3026         3007           30.0   \n",
       "4  313067322         4           3034         3068           30.0   \n",
       "\n",
       "  trip_route_category passholder_type bike_type  \n",
       "0             One Way        Indego30  standard  \n",
       "1             One Way        Indego30  standard  \n",
       "2             One Way        Indego30  standard  \n",
       "3             One Way        Indego30  standard  \n",
       "4             One Way        Indego30  standard  "
      ]
     },
     "execution_count": 2,
     "metadata": {},
     "output_type": "execute_result"
    }
   ],
   "source": [
    "q219_df = pd.read_csv('Output\\q219.csv', index_col=None)\n",
    "q219_df.head()"
   ]
  },
  {
   "cell_type": "code",
   "execution_count": 3,
   "metadata": {},
   "outputs": [
    {
     "data": {
      "text/plain": [
       "trip_id                206354\n",
       "duration               206354\n",
       "start_station          206354\n",
       "end_station            206354\n",
       "plan_duration          206347\n",
       "trip_route_category    206354\n",
       "passholder_type        206319\n",
       "bike_type              206354\n",
       "dtype: int64"
      ]
     },
     "execution_count": 3,
     "metadata": {},
     "output_type": "execute_result"
    }
   ],
   "source": [
    "q219_df.count()"
   ]
  },
  {
   "cell_type": "code",
   "execution_count": 4,
   "metadata": {},
   "outputs": [
    {
     "data": {
      "text/plain": [
       "trip_id                  int64\n",
       "duration                 int64\n",
       "start_station            int64\n",
       "end_station              int64\n",
       "plan_duration          float64\n",
       "trip_route_category     object\n",
       "passholder_type         object\n",
       "bike_type               object\n",
       "dtype: object"
      ]
     },
     "execution_count": 4,
     "metadata": {},
     "output_type": "execute_result"
    }
   ],
   "source": [
    "q219_df.dtypes"
   ]
  },
  {
   "cell_type": "markdown",
   "metadata": {},
   "source": [
    "## Data Q3 of 2019"
   ]
  },
  {
   "cell_type": "code",
   "execution_count": 5,
   "metadata": {},
   "outputs": [
    {
     "data": {
      "text/html": [
       "<div>\n",
       "<style scoped>\n",
       "    .dataframe tbody tr th:only-of-type {\n",
       "        vertical-align: middle;\n",
       "    }\n",
       "\n",
       "    .dataframe tbody tr th {\n",
       "        vertical-align: top;\n",
       "    }\n",
       "\n",
       "    .dataframe thead th {\n",
       "        text-align: right;\n",
       "    }\n",
       "</style>\n",
       "<table border=\"1\" class=\"dataframe\">\n",
       "  <thead>\n",
       "    <tr style=\"text-align: right;\">\n",
       "      <th></th>\n",
       "      <th>trip_id</th>\n",
       "      <th>duration</th>\n",
       "      <th>start_station</th>\n",
       "      <th>end_station</th>\n",
       "      <th>plan_duration</th>\n",
       "      <th>trip_route_category</th>\n",
       "      <th>passholder_type</th>\n",
       "      <th>bike_type</th>\n",
       "    </tr>\n",
       "  </thead>\n",
       "  <tbody>\n",
       "    <tr>\n",
       "      <th>0</th>\n",
       "      <td>320093117</td>\n",
       "      <td>30</td>\n",
       "      <td>3049</td>\n",
       "      <td>3121</td>\n",
       "      <td>30</td>\n",
       "      <td>One Way</td>\n",
       "      <td>Indego30</td>\n",
       "      <td>standard</td>\n",
       "    </tr>\n",
       "    <tr>\n",
       "      <th>1</th>\n",
       "      <td>320093114</td>\n",
       "      <td>26</td>\n",
       "      <td>3119</td>\n",
       "      <td>3118</td>\n",
       "      <td>30</td>\n",
       "      <td>One Way</td>\n",
       "      <td>Indego30</td>\n",
       "      <td>electric</td>\n",
       "    </tr>\n",
       "    <tr>\n",
       "      <th>2</th>\n",
       "      <td>320093115</td>\n",
       "      <td>10</td>\n",
       "      <td>3043</td>\n",
       "      <td>3155</td>\n",
       "      <td>365</td>\n",
       "      <td>One Way</td>\n",
       "      <td>Indego365</td>\n",
       "      <td>standard</td>\n",
       "    </tr>\n",
       "    <tr>\n",
       "      <th>3</th>\n",
       "      <td>320093116</td>\n",
       "      <td>10</td>\n",
       "      <td>3043</td>\n",
       "      <td>3155</td>\n",
       "      <td>30</td>\n",
       "      <td>One Way</td>\n",
       "      <td>Indego30</td>\n",
       "      <td>standard</td>\n",
       "    </tr>\n",
       "    <tr>\n",
       "      <th>4</th>\n",
       "      <td>320093113</td>\n",
       "      <td>15</td>\n",
       "      <td>3040</td>\n",
       "      <td>3007</td>\n",
       "      <td>1</td>\n",
       "      <td>One Way</td>\n",
       "      <td>Day Pass</td>\n",
       "      <td>standard</td>\n",
       "    </tr>\n",
       "  </tbody>\n",
       "</table>\n",
       "</div>"
      ],
      "text/plain": [
       "     trip_id  duration  start_station  end_station  plan_duration  \\\n",
       "0  320093117        30           3049         3121             30   \n",
       "1  320093114        26           3119         3118             30   \n",
       "2  320093115        10           3043         3155            365   \n",
       "3  320093116        10           3043         3155             30   \n",
       "4  320093113        15           3040         3007              1   \n",
       "\n",
       "  trip_route_category passholder_type bike_type  \n",
       "0             One Way        Indego30  standard  \n",
       "1             One Way        Indego30  electric  \n",
       "2             One Way       Indego365  standard  \n",
       "3             One Way        Indego30  standard  \n",
       "4             One Way        Day Pass  standard  "
      ]
     },
     "execution_count": 5,
     "metadata": {},
     "output_type": "execute_result"
    }
   ],
   "source": [
    "q319_df = pd.read_csv('Output\\q319.csv', index_col=None)\n",
    "q319_df.head()"
   ]
  },
  {
   "cell_type": "code",
   "execution_count": 6,
   "metadata": {},
   "outputs": [
    {
     "data": {
      "text/plain": [
       "trip_id                275197\n",
       "duration               275197\n",
       "start_station          275197\n",
       "end_station            275197\n",
       "plan_duration          275197\n",
       "trip_route_category    275197\n",
       "passholder_type        275197\n",
       "bike_type              275197\n",
       "dtype: int64"
      ]
     },
     "execution_count": 6,
     "metadata": {},
     "output_type": "execute_result"
    }
   ],
   "source": [
    "q319_df.count()"
   ]
  },
  {
   "cell_type": "markdown",
   "metadata": {},
   "source": [
    "## Data Q2 of 2020"
   ]
  },
  {
   "cell_type": "code",
   "execution_count": 7,
   "metadata": {},
   "outputs": [
    {
     "data": {
      "text/html": [
       "<div>\n",
       "<style scoped>\n",
       "    .dataframe tbody tr th:only-of-type {\n",
       "        vertical-align: middle;\n",
       "    }\n",
       "\n",
       "    .dataframe tbody tr th {\n",
       "        vertical-align: top;\n",
       "    }\n",
       "\n",
       "    .dataframe thead th {\n",
       "        text-align: right;\n",
       "    }\n",
       "</style>\n",
       "<table border=\"1\" class=\"dataframe\">\n",
       "  <thead>\n",
       "    <tr style=\"text-align: right;\">\n",
       "      <th></th>\n",
       "      <th>trip_id</th>\n",
       "      <th>duration</th>\n",
       "      <th>start_station</th>\n",
       "      <th>end_station</th>\n",
       "      <th>plan_duration</th>\n",
       "      <th>trip_route_category</th>\n",
       "      <th>passholder_type</th>\n",
       "      <th>bike_type</th>\n",
       "    </tr>\n",
       "  </thead>\n",
       "  <tbody>\n",
       "    <tr>\n",
       "      <th>0</th>\n",
       "      <td>320093117</td>\n",
       "      <td>30</td>\n",
       "      <td>3049</td>\n",
       "      <td>3121</td>\n",
       "      <td>30</td>\n",
       "      <td>One Way</td>\n",
       "      <td>Indego30</td>\n",
       "      <td>standard</td>\n",
       "    </tr>\n",
       "    <tr>\n",
       "      <th>1</th>\n",
       "      <td>320093114</td>\n",
       "      <td>26</td>\n",
       "      <td>3119</td>\n",
       "      <td>3118</td>\n",
       "      <td>30</td>\n",
       "      <td>One Way</td>\n",
       "      <td>Indego30</td>\n",
       "      <td>electric</td>\n",
       "    </tr>\n",
       "    <tr>\n",
       "      <th>2</th>\n",
       "      <td>320093115</td>\n",
       "      <td>10</td>\n",
       "      <td>3043</td>\n",
       "      <td>3155</td>\n",
       "      <td>365</td>\n",
       "      <td>One Way</td>\n",
       "      <td>Indego365</td>\n",
       "      <td>standard</td>\n",
       "    </tr>\n",
       "    <tr>\n",
       "      <th>3</th>\n",
       "      <td>320093116</td>\n",
       "      <td>10</td>\n",
       "      <td>3043</td>\n",
       "      <td>3155</td>\n",
       "      <td>30</td>\n",
       "      <td>One Way</td>\n",
       "      <td>Indego30</td>\n",
       "      <td>standard</td>\n",
       "    </tr>\n",
       "    <tr>\n",
       "      <th>4</th>\n",
       "      <td>320093113</td>\n",
       "      <td>15</td>\n",
       "      <td>3040</td>\n",
       "      <td>3007</td>\n",
       "      <td>1</td>\n",
       "      <td>One Way</td>\n",
       "      <td>Day Pass</td>\n",
       "      <td>standard</td>\n",
       "    </tr>\n",
       "  </tbody>\n",
       "</table>\n",
       "</div>"
      ],
      "text/plain": [
       "     trip_id  duration  start_station  end_station  plan_duration  \\\n",
       "0  320093117        30           3049         3121             30   \n",
       "1  320093114        26           3119         3118             30   \n",
       "2  320093115        10           3043         3155            365   \n",
       "3  320093116        10           3043         3155             30   \n",
       "4  320093113        15           3040         3007              1   \n",
       "\n",
       "  trip_route_category passholder_type bike_type  \n",
       "0             One Way        Indego30  standard  \n",
       "1             One Way        Indego30  electric  \n",
       "2             One Way       Indego365  standard  \n",
       "3             One Way        Indego30  standard  \n",
       "4             One Way        Day Pass  standard  "
      ]
     },
     "execution_count": 7,
     "metadata": {},
     "output_type": "execute_result"
    }
   ],
   "source": [
    "q220_df = pd.read_csv('Output\\q319.csv', index_col=None)\n",
    "q220_df.head()"
   ]
  },
  {
   "cell_type": "code",
   "execution_count": 8,
   "metadata": {},
   "outputs": [
    {
     "data": {
      "text/plain": [
       "trip_id                275197\n",
       "duration               275197\n",
       "start_station          275197\n",
       "end_station            275197\n",
       "plan_duration          275197\n",
       "trip_route_category    275197\n",
       "passholder_type        275197\n",
       "bike_type              275197\n",
       "dtype: int64"
      ]
     },
     "execution_count": 8,
     "metadata": {},
     "output_type": "execute_result"
    }
   ],
   "source": [
    "q220_df.count()"
   ]
  },
  {
   "cell_type": "markdown",
   "metadata": {},
   "source": [
    "## Data Q3 of 2020"
   ]
  },
  {
   "cell_type": "code",
   "execution_count": 9,
   "metadata": {},
   "outputs": [
    {
     "data": {
      "text/html": [
       "<div>\n",
       "<style scoped>\n",
       "    .dataframe tbody tr th:only-of-type {\n",
       "        vertical-align: middle;\n",
       "    }\n",
       "\n",
       "    .dataframe tbody tr th {\n",
       "        vertical-align: top;\n",
       "    }\n",
       "\n",
       "    .dataframe thead th {\n",
       "        text-align: right;\n",
       "    }\n",
       "</style>\n",
       "<table border=\"1\" class=\"dataframe\">\n",
       "  <thead>\n",
       "    <tr style=\"text-align: right;\">\n",
       "      <th></th>\n",
       "      <th>trip_id</th>\n",
       "      <th>duration</th>\n",
       "      <th>start_station</th>\n",
       "      <th>end_station</th>\n",
       "      <th>plan_duration</th>\n",
       "      <th>trip_route_category</th>\n",
       "      <th>passholder_type</th>\n",
       "      <th>bike_type</th>\n",
       "    </tr>\n",
       "  </thead>\n",
       "  <tbody>\n",
       "    <tr>\n",
       "      <th>0</th>\n",
       "      <td>345127322</td>\n",
       "      <td>10</td>\n",
       "      <td>3021</td>\n",
       "      <td>3051</td>\n",
       "      <td>365</td>\n",
       "      <td>One Way</td>\n",
       "      <td>Indego365</td>\n",
       "      <td>standard</td>\n",
       "    </tr>\n",
       "    <tr>\n",
       "      <th>1</th>\n",
       "      <td>345127320</td>\n",
       "      <td>112</td>\n",
       "      <td>3067</td>\n",
       "      <td>3104</td>\n",
       "      <td>30</td>\n",
       "      <td>One Way</td>\n",
       "      <td>Indego30</td>\n",
       "      <td>electric</td>\n",
       "    </tr>\n",
       "    <tr>\n",
       "      <th>2</th>\n",
       "      <td>345127318</td>\n",
       "      <td>111</td>\n",
       "      <td>3067</td>\n",
       "      <td>3104</td>\n",
       "      <td>30</td>\n",
       "      <td>One Way</td>\n",
       "      <td>Indego30</td>\n",
       "      <td>electric</td>\n",
       "    </tr>\n",
       "    <tr>\n",
       "      <th>3</th>\n",
       "      <td>345127315</td>\n",
       "      <td>3</td>\n",
       "      <td>3187</td>\n",
       "      <td>3168</td>\n",
       "      <td>30</td>\n",
       "      <td>One Way</td>\n",
       "      <td>Indego30</td>\n",
       "      <td>standard</td>\n",
       "    </tr>\n",
       "    <tr>\n",
       "      <th>4</th>\n",
       "      <td>345127313</td>\n",
       "      <td>42</td>\n",
       "      <td>3056</td>\n",
       "      <td>3017</td>\n",
       "      <td>1</td>\n",
       "      <td>One Way</td>\n",
       "      <td>Day Pass</td>\n",
       "      <td>electric</td>\n",
       "    </tr>\n",
       "  </tbody>\n",
       "</table>\n",
       "</div>"
      ],
      "text/plain": [
       "     trip_id  duration  start_station  end_station  plan_duration  \\\n",
       "0  345127322        10           3021         3051            365   \n",
       "1  345127320       112           3067         3104             30   \n",
       "2  345127318       111           3067         3104             30   \n",
       "3  345127315         3           3187         3168             30   \n",
       "4  345127313        42           3056         3017              1   \n",
       "\n",
       "  trip_route_category passholder_type bike_type  \n",
       "0             One Way       Indego365  standard  \n",
       "1             One Way        Indego30  electric  \n",
       "2             One Way        Indego30  electric  \n",
       "3             One Way        Indego30  standard  \n",
       "4             One Way        Day Pass  electric  "
      ]
     },
     "execution_count": 9,
     "metadata": {},
     "output_type": "execute_result"
    }
   ],
   "source": [
    "q320_df = pd.read_csv('Output\\q320.csv', index_col=None)\n",
    "q320_df.head()"
   ]
  },
  {
   "cell_type": "code",
   "execution_count": 10,
   "metadata": {},
   "outputs": [
    {
     "data": {
      "text/plain": [
       "trip_id                269985\n",
       "duration               269985\n",
       "start_station          269985\n",
       "end_station            269985\n",
       "plan_duration          269985\n",
       "trip_route_category    269985\n",
       "passholder_type        269985\n",
       "bike_type              269985\n",
       "dtype: int64"
      ]
     },
     "execution_count": 10,
     "metadata": {},
     "output_type": "execute_result"
    }
   ],
   "source": [
    "q320_df.count()"
   ]
  },
  {
   "cell_type": "markdown",
   "metadata": {},
   "source": [
    "# Create Database Using Pymongo"
   ]
  },
  {
   "cell_type": "code",
   "execution_count": 11,
   "metadata": {
    "scrolled": true
   },
   "outputs": [],
   "source": [
    "#Establish connection to mongo db\n",
    "conn = 'mongodb://localhost:27017'\n",
    "client = pymongo.MongoClient(conn)"
   ]
  },
  {
   "cell_type": "code",
   "execution_count": 12,
   "metadata": {},
   "outputs": [],
   "source": [
    "#Create the database indego_db\n",
    "db = client.indego_db"
   ]
  },
  {
   "cell_type": "code",
   "execution_count": 13,
   "metadata": {},
   "outputs": [],
   "source": [
    "#Setup collections, if collections exist drop them start anew, \n",
    "db.tripQ219.drop()\n",
    "db.tripQ319.drop()"
   ]
  },
  {
   "cell_type": "markdown",
   "metadata": {},
   "source": [
    "## Q2 of 2019"
   ]
  },
  {
   "cell_type": "code",
   "execution_count": 14,
   "metadata": {},
   "outputs": [],
   "source": [
    "#Convert pandas dataframe to dictionary, orient as a record, keeps a copy\n",
    "# Quarter 2 of 2019\n",
    "df_dict = q219_df.to_dict(orient='records').copy()"
   ]
  },
  {
   "cell_type": "code",
   "execution_count": 15,
   "metadata": {},
   "outputs": [
    {
     "data": {
      "text/plain": [
       "<pymongo.results.InsertManyResult at 0x1d9d4f8b300>"
      ]
     },
     "execution_count": 15,
     "metadata": {},
     "output_type": "execute_result"
    }
   ],
   "source": [
    "#Insert the dictionary into collection\n",
    "db.tripQ219.insert_many(df_dict)"
   ]
  },
  {
   "cell_type": "code",
   "execution_count": 16,
   "metadata": {
    "scrolled": true
   },
   "outputs": [
    {
     "name": "stdout",
     "output_type": "stream",
     "text": [
      "{'_id': ObjectId('6010a8cbcf0a73db476ec950'), 'trip_id': 313067326, 'duration': 8, 'start_station': 3027, 'end_station': 3119, 'plan_duration': 30.0, 'trip_route_category': 'One Way', 'passholder_type': 'Indego30', 'bike_type': 'standard'}\n",
      "{'_id': ObjectId('6010a8cbcf0a73db476ec951'), 'trip_id': 313067325, 'duration': 16, 'start_station': 3037, 'end_station': 3053, 'plan_duration': 30.0, 'trip_route_category': 'One Way', 'passholder_type': 'Indego30', 'bike_type': 'standard'}\n"
     ]
    }
   ],
   "source": [
    "#print documents\n",
    "cursor = db.tripQ219.find({},limit=2)\n",
    "for document in cursor:\n",
    "    print(document)"
   ]
  },
  {
   "cell_type": "markdown",
   "metadata": {},
   "source": [
    "## Read Q2 of 2019 Collection into a Dataframe"
   ]
  },
  {
   "cell_type": "code",
   "execution_count": 17,
   "metadata": {},
   "outputs": [
    {
     "data": {
      "text/html": [
       "<div>\n",
       "<style scoped>\n",
       "    .dataframe tbody tr th:only-of-type {\n",
       "        vertical-align: middle;\n",
       "    }\n",
       "\n",
       "    .dataframe tbody tr th {\n",
       "        vertical-align: top;\n",
       "    }\n",
       "\n",
       "    .dataframe thead th {\n",
       "        text-align: right;\n",
       "    }\n",
       "</style>\n",
       "<table border=\"1\" class=\"dataframe\">\n",
       "  <thead>\n",
       "    <tr style=\"text-align: right;\">\n",
       "      <th></th>\n",
       "      <th>_id</th>\n",
       "      <th>trip_id</th>\n",
       "      <th>duration</th>\n",
       "      <th>start_station</th>\n",
       "      <th>end_station</th>\n",
       "      <th>plan_duration</th>\n",
       "      <th>trip_route_category</th>\n",
       "      <th>passholder_type</th>\n",
       "      <th>bike_type</th>\n",
       "    </tr>\n",
       "  </thead>\n",
       "  <tbody>\n",
       "    <tr>\n",
       "      <th>0</th>\n",
       "      <td>6010a8cbcf0a73db476ec950</td>\n",
       "      <td>313067326</td>\n",
       "      <td>8</td>\n",
       "      <td>3027</td>\n",
       "      <td>3119</td>\n",
       "      <td>30.0</td>\n",
       "      <td>One Way</td>\n",
       "      <td>Indego30</td>\n",
       "      <td>standard</td>\n",
       "    </tr>\n",
       "    <tr>\n",
       "      <th>1</th>\n",
       "      <td>6010a8cbcf0a73db476ec951</td>\n",
       "      <td>313067325</td>\n",
       "      <td>16</td>\n",
       "      <td>3037</td>\n",
       "      <td>3053</td>\n",
       "      <td>30.0</td>\n",
       "      <td>One Way</td>\n",
       "      <td>Indego30</td>\n",
       "      <td>standard</td>\n",
       "    </tr>\n",
       "    <tr>\n",
       "      <th>2</th>\n",
       "      <td>6010a8cbcf0a73db476ec952</td>\n",
       "      <td>313067324</td>\n",
       "      <td>12</td>\n",
       "      <td>3026</td>\n",
       "      <td>3157</td>\n",
       "      <td>30.0</td>\n",
       "      <td>One Way</td>\n",
       "      <td>Indego30</td>\n",
       "      <td>standard</td>\n",
       "    </tr>\n",
       "    <tr>\n",
       "      <th>3</th>\n",
       "      <td>6010a8cbcf0a73db476ec953</td>\n",
       "      <td>313067323</td>\n",
       "      <td>5</td>\n",
       "      <td>3026</td>\n",
       "      <td>3007</td>\n",
       "      <td>30.0</td>\n",
       "      <td>One Way</td>\n",
       "      <td>Indego30</td>\n",
       "      <td>standard</td>\n",
       "    </tr>\n",
       "    <tr>\n",
       "      <th>4</th>\n",
       "      <td>6010a8cbcf0a73db476ec954</td>\n",
       "      <td>313067322</td>\n",
       "      <td>4</td>\n",
       "      <td>3034</td>\n",
       "      <td>3068</td>\n",
       "      <td>30.0</td>\n",
       "      <td>One Way</td>\n",
       "      <td>Indego30</td>\n",
       "      <td>standard</td>\n",
       "    </tr>\n",
       "  </tbody>\n",
       "</table>\n",
       "</div>"
      ],
      "text/plain": [
       "                        _id    trip_id  duration  start_station  end_station  \\\n",
       "0  6010a8cbcf0a73db476ec950  313067326         8           3027         3119   \n",
       "1  6010a8cbcf0a73db476ec951  313067325        16           3037         3053   \n",
       "2  6010a8cbcf0a73db476ec952  313067324        12           3026         3157   \n",
       "3  6010a8cbcf0a73db476ec953  313067323         5           3026         3007   \n",
       "4  6010a8cbcf0a73db476ec954  313067322         4           3034         3068   \n",
       "\n",
       "   plan_duration trip_route_category passholder_type bike_type  \n",
       "0           30.0             One Way        Indego30  standard  \n",
       "1           30.0             One Way        Indego30  standard  \n",
       "2           30.0             One Way        Indego30  standard  \n",
       "3           30.0             One Way        Indego30  standard  \n",
       "4           30.0             One Way        Indego30  standard  "
      ]
     },
     "execution_count": 17,
     "metadata": {},
     "output_type": "execute_result"
    }
   ],
   "source": [
    "#Read tripQ219 collection from mongodb into a dataframe tripQ219_df\n",
    "tripQ219_df = pd.DataFrame(list(db.tripQ219.find({})))\n",
    "tripQ219_df.head()"
   ]
  },
  {
   "cell_type": "markdown",
   "metadata": {},
   "source": [
    "## Q3 of 2019"
   ]
  },
  {
   "cell_type": "code",
   "execution_count": 18,
   "metadata": {},
   "outputs": [],
   "source": [
    "#Convert pandas dataframe to dictionary, orient as a record, keeps a copy\n",
    "# Quarter 3 of 2019\n",
    "df_dict2 = q319_df.to_dict(orient='records').copy()"
   ]
  },
  {
   "cell_type": "code",
   "execution_count": 19,
   "metadata": {},
   "outputs": [
    {
     "data": {
      "text/plain": [
       "<pymongo.results.InsertManyResult at 0x1d9d9e5a4c0>"
      ]
     },
     "execution_count": 19,
     "metadata": {},
     "output_type": "execute_result"
    }
   ],
   "source": [
    "#Insert the dictionary into collection\n",
    "db.tripQ319.insert_many(df_dict2)"
   ]
  },
  {
   "cell_type": "code",
   "execution_count": 20,
   "metadata": {},
   "outputs": [
    {
     "name": "stdout",
     "output_type": "stream",
     "text": [
      "{'_id': ObjectId('6010a8d4cf0a73db4771ef62'), 'trip_id': 320093117, 'duration': 30, 'start_station': 3049, 'end_station': 3121, 'plan_duration': 30, 'trip_route_category': 'One Way', 'passholder_type': 'Indego30', 'bike_type': 'standard'}\n",
      "{'_id': ObjectId('6010a8d4cf0a73db4771ef63'), 'trip_id': 320093114, 'duration': 26, 'start_station': 3119, 'end_station': 3118, 'plan_duration': 30, 'trip_route_category': 'One Way', 'passholder_type': 'Indego30', 'bike_type': 'electric'}\n"
     ]
    }
   ],
   "source": [
    "#print duration documents\n",
    "cursor = db.tripQ319.find({},limit=2)\n",
    "for document in cursor:\n",
    "    print(document)"
   ]
  },
  {
   "cell_type": "markdown",
   "metadata": {},
   "source": [
    "## Read Q3 of 2019 Collection into a Dataframe"
   ]
  },
  {
   "cell_type": "code",
   "execution_count": 21,
   "metadata": {},
   "outputs": [
    {
     "data": {
      "text/html": [
       "<div>\n",
       "<style scoped>\n",
       "    .dataframe tbody tr th:only-of-type {\n",
       "        vertical-align: middle;\n",
       "    }\n",
       "\n",
       "    .dataframe tbody tr th {\n",
       "        vertical-align: top;\n",
       "    }\n",
       "\n",
       "    .dataframe thead th {\n",
       "        text-align: right;\n",
       "    }\n",
       "</style>\n",
       "<table border=\"1\" class=\"dataframe\">\n",
       "  <thead>\n",
       "    <tr style=\"text-align: right;\">\n",
       "      <th></th>\n",
       "      <th>_id</th>\n",
       "      <th>trip_id</th>\n",
       "      <th>duration</th>\n",
       "      <th>start_station</th>\n",
       "      <th>end_station</th>\n",
       "      <th>plan_duration</th>\n",
       "      <th>trip_route_category</th>\n",
       "      <th>passholder_type</th>\n",
       "      <th>bike_type</th>\n",
       "    </tr>\n",
       "  </thead>\n",
       "  <tbody>\n",
       "    <tr>\n",
       "      <th>0</th>\n",
       "      <td>6010a8d4cf0a73db4771ef62</td>\n",
       "      <td>320093117</td>\n",
       "      <td>30</td>\n",
       "      <td>3049</td>\n",
       "      <td>3121</td>\n",
       "      <td>30</td>\n",
       "      <td>One Way</td>\n",
       "      <td>Indego30</td>\n",
       "      <td>standard</td>\n",
       "    </tr>\n",
       "    <tr>\n",
       "      <th>1</th>\n",
       "      <td>6010a8d4cf0a73db4771ef63</td>\n",
       "      <td>320093114</td>\n",
       "      <td>26</td>\n",
       "      <td>3119</td>\n",
       "      <td>3118</td>\n",
       "      <td>30</td>\n",
       "      <td>One Way</td>\n",
       "      <td>Indego30</td>\n",
       "      <td>electric</td>\n",
       "    </tr>\n",
       "    <tr>\n",
       "      <th>2</th>\n",
       "      <td>6010a8d4cf0a73db4771ef64</td>\n",
       "      <td>320093115</td>\n",
       "      <td>10</td>\n",
       "      <td>3043</td>\n",
       "      <td>3155</td>\n",
       "      <td>365</td>\n",
       "      <td>One Way</td>\n",
       "      <td>Indego365</td>\n",
       "      <td>standard</td>\n",
       "    </tr>\n",
       "    <tr>\n",
       "      <th>3</th>\n",
       "      <td>6010a8d4cf0a73db4771ef65</td>\n",
       "      <td>320093116</td>\n",
       "      <td>10</td>\n",
       "      <td>3043</td>\n",
       "      <td>3155</td>\n",
       "      <td>30</td>\n",
       "      <td>One Way</td>\n",
       "      <td>Indego30</td>\n",
       "      <td>standard</td>\n",
       "    </tr>\n",
       "    <tr>\n",
       "      <th>4</th>\n",
       "      <td>6010a8d4cf0a73db4771ef66</td>\n",
       "      <td>320093113</td>\n",
       "      <td>15</td>\n",
       "      <td>3040</td>\n",
       "      <td>3007</td>\n",
       "      <td>1</td>\n",
       "      <td>One Way</td>\n",
       "      <td>Day Pass</td>\n",
       "      <td>standard</td>\n",
       "    </tr>\n",
       "  </tbody>\n",
       "</table>\n",
       "</div>"
      ],
      "text/plain": [
       "                        _id    trip_id  duration  start_station  end_station  \\\n",
       "0  6010a8d4cf0a73db4771ef62  320093117        30           3049         3121   \n",
       "1  6010a8d4cf0a73db4771ef63  320093114        26           3119         3118   \n",
       "2  6010a8d4cf0a73db4771ef64  320093115        10           3043         3155   \n",
       "3  6010a8d4cf0a73db4771ef65  320093116        10           3043         3155   \n",
       "4  6010a8d4cf0a73db4771ef66  320093113        15           3040         3007   \n",
       "\n",
       "   plan_duration trip_route_category passholder_type bike_type  \n",
       "0             30             One Way        Indego30  standard  \n",
       "1             30             One Way        Indego30  electric  \n",
       "2            365             One Way       Indego365  standard  \n",
       "3             30             One Way        Indego30  standard  \n",
       "4              1             One Way        Day Pass  standard  "
      ]
     },
     "execution_count": 21,
     "metadata": {},
     "output_type": "execute_result"
    }
   ],
   "source": [
    "#Read tripQ319 collection from mongodb into a dataframe tripQ319_df\n",
    "tripQ319_df = pd.DataFrame(list(db.tripQ319.find({})))\n",
    "tripQ319_df.head()"
   ]
  },
  {
   "cell_type": "markdown",
   "metadata": {},
   "source": [
    "## Merge Q2 and Q3 2019 into Combined Dataframe"
   ]
  },
  {
   "cell_type": "code",
   "execution_count": 22,
   "metadata": {},
   "outputs": [
    {
     "data": {
      "text/html": [
       "<div>\n",
       "<style scoped>\n",
       "    .dataframe tbody tr th:only-of-type {\n",
       "        vertical-align: middle;\n",
       "    }\n",
       "\n",
       "    .dataframe tbody tr th {\n",
       "        vertical-align: top;\n",
       "    }\n",
       "\n",
       "    .dataframe thead th {\n",
       "        text-align: right;\n",
       "    }\n",
       "</style>\n",
       "<table border=\"1\" class=\"dataframe\">\n",
       "  <thead>\n",
       "    <tr style=\"text-align: right;\">\n",
       "      <th></th>\n",
       "      <th>_id</th>\n",
       "      <th>trip_id</th>\n",
       "      <th>duration</th>\n",
       "      <th>start_station</th>\n",
       "      <th>end_station</th>\n",
       "      <th>plan_duration</th>\n",
       "      <th>trip_route_category</th>\n",
       "      <th>passholder_type</th>\n",
       "      <th>bike_type</th>\n",
       "    </tr>\n",
       "  </thead>\n",
       "  <tbody>\n",
       "    <tr>\n",
       "      <th>0</th>\n",
       "      <td>6010a8cbcf0a73db476ec950</td>\n",
       "      <td>313067326</td>\n",
       "      <td>8</td>\n",
       "      <td>3027</td>\n",
       "      <td>3119</td>\n",
       "      <td>30.0</td>\n",
       "      <td>One Way</td>\n",
       "      <td>Indego30</td>\n",
       "      <td>standard</td>\n",
       "    </tr>\n",
       "    <tr>\n",
       "      <th>1</th>\n",
       "      <td>6010a8cbcf0a73db476ec951</td>\n",
       "      <td>313067325</td>\n",
       "      <td>16</td>\n",
       "      <td>3037</td>\n",
       "      <td>3053</td>\n",
       "      <td>30.0</td>\n",
       "      <td>One Way</td>\n",
       "      <td>Indego30</td>\n",
       "      <td>standard</td>\n",
       "    </tr>\n",
       "    <tr>\n",
       "      <th>2</th>\n",
       "      <td>6010a8cbcf0a73db476ec952</td>\n",
       "      <td>313067324</td>\n",
       "      <td>12</td>\n",
       "      <td>3026</td>\n",
       "      <td>3157</td>\n",
       "      <td>30.0</td>\n",
       "      <td>One Way</td>\n",
       "      <td>Indego30</td>\n",
       "      <td>standard</td>\n",
       "    </tr>\n",
       "    <tr>\n",
       "      <th>3</th>\n",
       "      <td>6010a8cbcf0a73db476ec953</td>\n",
       "      <td>313067323</td>\n",
       "      <td>5</td>\n",
       "      <td>3026</td>\n",
       "      <td>3007</td>\n",
       "      <td>30.0</td>\n",
       "      <td>One Way</td>\n",
       "      <td>Indego30</td>\n",
       "      <td>standard</td>\n",
       "    </tr>\n",
       "    <tr>\n",
       "      <th>4</th>\n",
       "      <td>6010a8cbcf0a73db476ec954</td>\n",
       "      <td>313067322</td>\n",
       "      <td>4</td>\n",
       "      <td>3034</td>\n",
       "      <td>3068</td>\n",
       "      <td>30.0</td>\n",
       "      <td>One Way</td>\n",
       "      <td>Indego30</td>\n",
       "      <td>standard</td>\n",
       "    </tr>\n",
       "  </tbody>\n",
       "</table>\n",
       "</div>"
      ],
      "text/plain": [
       "                        _id    trip_id  duration  start_station  end_station  \\\n",
       "0  6010a8cbcf0a73db476ec950  313067326         8           3027         3119   \n",
       "1  6010a8cbcf0a73db476ec951  313067325        16           3037         3053   \n",
       "2  6010a8cbcf0a73db476ec952  313067324        12           3026         3157   \n",
       "3  6010a8cbcf0a73db476ec953  313067323         5           3026         3007   \n",
       "4  6010a8cbcf0a73db476ec954  313067322         4           3034         3068   \n",
       "\n",
       "   plan_duration trip_route_category passholder_type bike_type  \n",
       "0           30.0             One Way        Indego30  standard  \n",
       "1           30.0             One Way        Indego30  standard  \n",
       "2           30.0             One Way        Indego30  standard  \n",
       "3           30.0             One Way        Indego30  standard  \n",
       "4           30.0             One Way        Indego30  standard  "
      ]
     },
     "execution_count": 22,
     "metadata": {},
     "output_type": "execute_result"
    }
   ],
   "source": [
    "# Stack the DataFrames on top of each other\n",
    "combined19 = pd.concat([tripQ219_df, tripQ319_df], axis=0)\n",
    "combined19.head()"
   ]
  },
  {
   "cell_type": "code",
   "execution_count": 23,
   "metadata": {},
   "outputs": [
    {
     "name": "stdout",
     "output_type": "stream",
     "text": [
      "<class 'pandas.core.frame.DataFrame'>\n",
      "Int64Index: 481551 entries, 0 to 275196\n",
      "Data columns (total 9 columns):\n",
      " #   Column               Non-Null Count   Dtype  \n",
      "---  ------               --------------   -----  \n",
      " 0   _id                  481551 non-null  object \n",
      " 1   trip_id              481551 non-null  int64  \n",
      " 2   duration             481551 non-null  int64  \n",
      " 3   start_station        481551 non-null  int64  \n",
      " 4   end_station          481551 non-null  int64  \n",
      " 5   plan_duration        481544 non-null  float64\n",
      " 6   trip_route_category  481551 non-null  object \n",
      " 7   passholder_type      481516 non-null  object \n",
      " 8   bike_type            481551 non-null  object \n",
      "dtypes: float64(1), int64(4), object(4)\n",
      "memory usage: 36.7+ MB\n"
     ]
    }
   ],
   "source": [
    "combined19.info()"
   ]
  },
  {
   "cell_type": "markdown",
   "metadata": {},
   "source": [
    "## Export 2019 Combined Dataframe into CSV File"
   ]
  },
  {
   "cell_type": "code",
   "execution_count": 24,
   "metadata": {},
   "outputs": [],
   "source": [
    "# Export as a CSV from the data of the MongoDB document\n",
    "# Two quarters of 2019\n",
    "combined19.to_csv(\"Output\\combined19.csv\", \",\")"
   ]
  },
  {
   "cell_type": "markdown",
   "metadata": {},
   "source": [
    "## Q2 of 2020"
   ]
  },
  {
   "cell_type": "code",
   "execution_count": 25,
   "metadata": {},
   "outputs": [],
   "source": [
    "#Setup collections, if collections exist drop them start anew, \n",
    "db.tripQ220.drop()\n",
    "db.tripQ320.drop()"
   ]
  },
  {
   "cell_type": "code",
   "execution_count": 26,
   "metadata": {},
   "outputs": [],
   "source": [
    "#Convert pandas dataframe to dictionary, orient as a record, keeps a copy\n",
    "# Quarter 2 of 2020\n",
    "df_dict3 = q220_df.to_dict(orient='records').copy()"
   ]
  },
  {
   "cell_type": "code",
   "execution_count": 27,
   "metadata": {},
   "outputs": [
    {
     "data": {
      "text/plain": [
       "<pymongo.results.InsertManyResult at 0x1d9d757adc0>"
      ]
     },
     "execution_count": 27,
     "metadata": {},
     "output_type": "execute_result"
    }
   ],
   "source": [
    "#Insert the dictionary into collection\n",
    "db.tripQ220.insert_many(df_dict3)"
   ]
  },
  {
   "cell_type": "code",
   "execution_count": 28,
   "metadata": {},
   "outputs": [
    {
     "name": "stdout",
     "output_type": "stream",
     "text": [
      "{'_id': ObjectId('6010a8e2cf0a73db4776225f'), 'trip_id': 320093117, 'duration': 30, 'start_station': 3049, 'end_station': 3121, 'plan_duration': 30, 'trip_route_category': 'One Way', 'passholder_type': 'Indego30', 'bike_type': 'standard'}\n",
      "{'_id': ObjectId('6010a8e2cf0a73db47762260'), 'trip_id': 320093114, 'duration': 26, 'start_station': 3119, 'end_station': 3118, 'plan_duration': 30, 'trip_route_category': 'One Way', 'passholder_type': 'Indego30', 'bike_type': 'electric'}\n"
     ]
    }
   ],
   "source": [
    "#print duration documents\n",
    "cursor = db.tripQ220.find({},limit=2)\n",
    "for document in cursor:\n",
    "    print(document)"
   ]
  },
  {
   "cell_type": "markdown",
   "metadata": {},
   "source": [
    "## Read Q2 of 2020 Collection into a Dataframe"
   ]
  },
  {
   "cell_type": "code",
   "execution_count": 29,
   "metadata": {},
   "outputs": [
    {
     "data": {
      "text/html": [
       "<div>\n",
       "<style scoped>\n",
       "    .dataframe tbody tr th:only-of-type {\n",
       "        vertical-align: middle;\n",
       "    }\n",
       "\n",
       "    .dataframe tbody tr th {\n",
       "        vertical-align: top;\n",
       "    }\n",
       "\n",
       "    .dataframe thead th {\n",
       "        text-align: right;\n",
       "    }\n",
       "</style>\n",
       "<table border=\"1\" class=\"dataframe\">\n",
       "  <thead>\n",
       "    <tr style=\"text-align: right;\">\n",
       "      <th></th>\n",
       "      <th>_id</th>\n",
       "      <th>trip_id</th>\n",
       "      <th>duration</th>\n",
       "      <th>start_station</th>\n",
       "      <th>end_station</th>\n",
       "      <th>plan_duration</th>\n",
       "      <th>trip_route_category</th>\n",
       "      <th>passholder_type</th>\n",
       "      <th>bike_type</th>\n",
       "    </tr>\n",
       "  </thead>\n",
       "  <tbody>\n",
       "    <tr>\n",
       "      <th>0</th>\n",
       "      <td>6010a8e2cf0a73db4776225f</td>\n",
       "      <td>320093117</td>\n",
       "      <td>30</td>\n",
       "      <td>3049</td>\n",
       "      <td>3121</td>\n",
       "      <td>30</td>\n",
       "      <td>One Way</td>\n",
       "      <td>Indego30</td>\n",
       "      <td>standard</td>\n",
       "    </tr>\n",
       "    <tr>\n",
       "      <th>1</th>\n",
       "      <td>6010a8e2cf0a73db47762260</td>\n",
       "      <td>320093114</td>\n",
       "      <td>26</td>\n",
       "      <td>3119</td>\n",
       "      <td>3118</td>\n",
       "      <td>30</td>\n",
       "      <td>One Way</td>\n",
       "      <td>Indego30</td>\n",
       "      <td>electric</td>\n",
       "    </tr>\n",
       "    <tr>\n",
       "      <th>2</th>\n",
       "      <td>6010a8e2cf0a73db47762261</td>\n",
       "      <td>320093115</td>\n",
       "      <td>10</td>\n",
       "      <td>3043</td>\n",
       "      <td>3155</td>\n",
       "      <td>365</td>\n",
       "      <td>One Way</td>\n",
       "      <td>Indego365</td>\n",
       "      <td>standard</td>\n",
       "    </tr>\n",
       "    <tr>\n",
       "      <th>3</th>\n",
       "      <td>6010a8e2cf0a73db47762262</td>\n",
       "      <td>320093116</td>\n",
       "      <td>10</td>\n",
       "      <td>3043</td>\n",
       "      <td>3155</td>\n",
       "      <td>30</td>\n",
       "      <td>One Way</td>\n",
       "      <td>Indego30</td>\n",
       "      <td>standard</td>\n",
       "    </tr>\n",
       "    <tr>\n",
       "      <th>4</th>\n",
       "      <td>6010a8e2cf0a73db47762263</td>\n",
       "      <td>320093113</td>\n",
       "      <td>15</td>\n",
       "      <td>3040</td>\n",
       "      <td>3007</td>\n",
       "      <td>1</td>\n",
       "      <td>One Way</td>\n",
       "      <td>Day Pass</td>\n",
       "      <td>standard</td>\n",
       "    </tr>\n",
       "  </tbody>\n",
       "</table>\n",
       "</div>"
      ],
      "text/plain": [
       "                        _id    trip_id  duration  start_station  end_station  \\\n",
       "0  6010a8e2cf0a73db4776225f  320093117        30           3049         3121   \n",
       "1  6010a8e2cf0a73db47762260  320093114        26           3119         3118   \n",
       "2  6010a8e2cf0a73db47762261  320093115        10           3043         3155   \n",
       "3  6010a8e2cf0a73db47762262  320093116        10           3043         3155   \n",
       "4  6010a8e2cf0a73db47762263  320093113        15           3040         3007   \n",
       "\n",
       "   plan_duration trip_route_category passholder_type bike_type  \n",
       "0             30             One Way        Indego30  standard  \n",
       "1             30             One Way        Indego30  electric  \n",
       "2            365             One Way       Indego365  standard  \n",
       "3             30             One Way        Indego30  standard  \n",
       "4              1             One Way        Day Pass  standard  "
      ]
     },
     "execution_count": 29,
     "metadata": {},
     "output_type": "execute_result"
    }
   ],
   "source": [
    "#Read tripQ220 collection from mongodb into a dataframe tripQ220_df\n",
    "tripQ220_df = pd.DataFrame(list(db.tripQ220.find({})))\n",
    "tripQ220_df.head()"
   ]
  },
  {
   "cell_type": "markdown",
   "metadata": {},
   "source": [
    "## Q3 of 2020"
   ]
  },
  {
   "cell_type": "code",
   "execution_count": 36,
   "metadata": {},
   "outputs": [],
   "source": [
    "#Convert pandas dataframe to dictionary, orient as a record, keeps a copy\n",
    "# Quarter 3 of 2020\n",
    "df_dict4 = q320_df.to_dict(orient='records').copy()"
   ]
  },
  {
   "cell_type": "code",
   "execution_count": 37,
   "metadata": {},
   "outputs": [
    {
     "data": {
      "text/plain": [
       "<pymongo.results.InsertManyResult at 0x1d9df341380>"
      ]
     },
     "execution_count": 37,
     "metadata": {},
     "output_type": "execute_result"
    }
   ],
   "source": [
    "#Insert the dictionary into collection\n",
    "db.tripQ320.insert_many(df_dict4)"
   ]
  },
  {
   "cell_type": "code",
   "execution_count": 38,
   "metadata": {},
   "outputs": [
    {
     "name": "stdout",
     "output_type": "stream",
     "text": [
      "{'_id': ObjectId('60109d1a79b21a6ac32f6480'), 'trip_id': 345127322, 'duration': 10, 'start_station': 3021, 'end_station': 3051, 'plan_duration': 365, 'trip_route_category': 'One Way', 'passholder_type': 'Indego365', 'bike_type': 'standard'}\n",
      "{'_id': ObjectId('60109d1a79b21a6ac32f6481'), 'trip_id': 345127320, 'duration': 112, 'start_station': 3067, 'end_station': 3104, 'plan_duration': 30, 'trip_route_category': 'One Way', 'passholder_type': 'Indego30', 'bike_type': 'electric'}\n"
     ]
    }
   ],
   "source": [
    "# Print duration documents\n",
    "cursor = db.q320_df.find({},limit=2)\n",
    "for document in cursor:\n",
    "    print(document)"
   ]
  },
  {
   "cell_type": "markdown",
   "metadata": {},
   "source": [
    "## Read Q3 of 2020 Collection into a Dataframe"
   ]
  },
  {
   "cell_type": "code",
   "execution_count": 39,
   "metadata": {},
   "outputs": [
    {
     "data": {
      "text/html": [
       "<div>\n",
       "<style scoped>\n",
       "    .dataframe tbody tr th:only-of-type {\n",
       "        vertical-align: middle;\n",
       "    }\n",
       "\n",
       "    .dataframe tbody tr th {\n",
       "        vertical-align: top;\n",
       "    }\n",
       "\n",
       "    .dataframe thead th {\n",
       "        text-align: right;\n",
       "    }\n",
       "</style>\n",
       "<table border=\"1\" class=\"dataframe\">\n",
       "  <thead>\n",
       "    <tr style=\"text-align: right;\">\n",
       "      <th></th>\n",
       "      <th>_id</th>\n",
       "      <th>trip_id</th>\n",
       "      <th>duration</th>\n",
       "      <th>start_station</th>\n",
       "      <th>end_station</th>\n",
       "      <th>plan_duration</th>\n",
       "      <th>trip_route_category</th>\n",
       "      <th>passholder_type</th>\n",
       "      <th>bike_type</th>\n",
       "    </tr>\n",
       "  </thead>\n",
       "  <tbody>\n",
       "    <tr>\n",
       "      <th>0</th>\n",
       "      <td>6010a945cf0a73db477e73fd</td>\n",
       "      <td>345127322</td>\n",
       "      <td>10</td>\n",
       "      <td>3021</td>\n",
       "      <td>3051</td>\n",
       "      <td>365</td>\n",
       "      <td>One Way</td>\n",
       "      <td>Indego365</td>\n",
       "      <td>standard</td>\n",
       "    </tr>\n",
       "    <tr>\n",
       "      <th>1</th>\n",
       "      <td>6010a945cf0a73db477e73fe</td>\n",
       "      <td>345127320</td>\n",
       "      <td>112</td>\n",
       "      <td>3067</td>\n",
       "      <td>3104</td>\n",
       "      <td>30</td>\n",
       "      <td>One Way</td>\n",
       "      <td>Indego30</td>\n",
       "      <td>electric</td>\n",
       "    </tr>\n",
       "    <tr>\n",
       "      <th>2</th>\n",
       "      <td>6010a945cf0a73db477e73ff</td>\n",
       "      <td>345127318</td>\n",
       "      <td>111</td>\n",
       "      <td>3067</td>\n",
       "      <td>3104</td>\n",
       "      <td>30</td>\n",
       "      <td>One Way</td>\n",
       "      <td>Indego30</td>\n",
       "      <td>electric</td>\n",
       "    </tr>\n",
       "    <tr>\n",
       "      <th>3</th>\n",
       "      <td>6010a945cf0a73db477e7400</td>\n",
       "      <td>345127315</td>\n",
       "      <td>3</td>\n",
       "      <td>3187</td>\n",
       "      <td>3168</td>\n",
       "      <td>30</td>\n",
       "      <td>One Way</td>\n",
       "      <td>Indego30</td>\n",
       "      <td>standard</td>\n",
       "    </tr>\n",
       "    <tr>\n",
       "      <th>4</th>\n",
       "      <td>6010a945cf0a73db477e7401</td>\n",
       "      <td>345127313</td>\n",
       "      <td>42</td>\n",
       "      <td>3056</td>\n",
       "      <td>3017</td>\n",
       "      <td>1</td>\n",
       "      <td>One Way</td>\n",
       "      <td>Day Pass</td>\n",
       "      <td>electric</td>\n",
       "    </tr>\n",
       "  </tbody>\n",
       "</table>\n",
       "</div>"
      ],
      "text/plain": [
       "                        _id    trip_id  duration  start_station  end_station  \\\n",
       "0  6010a945cf0a73db477e73fd  345127322        10           3021         3051   \n",
       "1  6010a945cf0a73db477e73fe  345127320       112           3067         3104   \n",
       "2  6010a945cf0a73db477e73ff  345127318       111           3067         3104   \n",
       "3  6010a945cf0a73db477e7400  345127315         3           3187         3168   \n",
       "4  6010a945cf0a73db477e7401  345127313        42           3056         3017   \n",
       "\n",
       "   plan_duration trip_route_category passholder_type bike_type  \n",
       "0            365             One Way       Indego365  standard  \n",
       "1             30             One Way        Indego30  electric  \n",
       "2             30             One Way        Indego30  electric  \n",
       "3             30             One Way        Indego30  standard  \n",
       "4              1             One Way        Day Pass  electric  "
      ]
     },
     "execution_count": 39,
     "metadata": {},
     "output_type": "execute_result"
    }
   ],
   "source": [
    "# Read tripQ320 collection from mongodb into a dataframe tripQ320_df\n",
    "tripQ320_df = pd.DataFrame(list(db.tripQ320.find({})))\n",
    "tripQ320_df.head()"
   ]
  },
  {
   "cell_type": "markdown",
   "metadata": {},
   "source": [
    "## Merge Q2 and Q3 2020 into Combined Dataframe"
   ]
  },
  {
   "cell_type": "code",
   "execution_count": 40,
   "metadata": {},
   "outputs": [
    {
     "data": {
      "text/html": [
       "<div>\n",
       "<style scoped>\n",
       "    .dataframe tbody tr th:only-of-type {\n",
       "        vertical-align: middle;\n",
       "    }\n",
       "\n",
       "    .dataframe tbody tr th {\n",
       "        vertical-align: top;\n",
       "    }\n",
       "\n",
       "    .dataframe thead th {\n",
       "        text-align: right;\n",
       "    }\n",
       "</style>\n",
       "<table border=\"1\" class=\"dataframe\">\n",
       "  <thead>\n",
       "    <tr style=\"text-align: right;\">\n",
       "      <th></th>\n",
       "      <th>_id</th>\n",
       "      <th>trip_id</th>\n",
       "      <th>duration</th>\n",
       "      <th>start_station</th>\n",
       "      <th>end_station</th>\n",
       "      <th>plan_duration</th>\n",
       "      <th>trip_route_category</th>\n",
       "      <th>passholder_type</th>\n",
       "      <th>bike_type</th>\n",
       "    </tr>\n",
       "  </thead>\n",
       "  <tbody>\n",
       "    <tr>\n",
       "      <th>0</th>\n",
       "      <td>6010a8e2cf0a73db4776225f</td>\n",
       "      <td>320093117</td>\n",
       "      <td>30</td>\n",
       "      <td>3049</td>\n",
       "      <td>3121</td>\n",
       "      <td>30</td>\n",
       "      <td>One Way</td>\n",
       "      <td>Indego30</td>\n",
       "      <td>standard</td>\n",
       "    </tr>\n",
       "    <tr>\n",
       "      <th>1</th>\n",
       "      <td>6010a8e2cf0a73db47762260</td>\n",
       "      <td>320093114</td>\n",
       "      <td>26</td>\n",
       "      <td>3119</td>\n",
       "      <td>3118</td>\n",
       "      <td>30</td>\n",
       "      <td>One Way</td>\n",
       "      <td>Indego30</td>\n",
       "      <td>electric</td>\n",
       "    </tr>\n",
       "    <tr>\n",
       "      <th>2</th>\n",
       "      <td>6010a8e2cf0a73db47762261</td>\n",
       "      <td>320093115</td>\n",
       "      <td>10</td>\n",
       "      <td>3043</td>\n",
       "      <td>3155</td>\n",
       "      <td>365</td>\n",
       "      <td>One Way</td>\n",
       "      <td>Indego365</td>\n",
       "      <td>standard</td>\n",
       "    </tr>\n",
       "    <tr>\n",
       "      <th>3</th>\n",
       "      <td>6010a8e2cf0a73db47762262</td>\n",
       "      <td>320093116</td>\n",
       "      <td>10</td>\n",
       "      <td>3043</td>\n",
       "      <td>3155</td>\n",
       "      <td>30</td>\n",
       "      <td>One Way</td>\n",
       "      <td>Indego30</td>\n",
       "      <td>standard</td>\n",
       "    </tr>\n",
       "    <tr>\n",
       "      <th>4</th>\n",
       "      <td>6010a8e2cf0a73db47762263</td>\n",
       "      <td>320093113</td>\n",
       "      <td>15</td>\n",
       "      <td>3040</td>\n",
       "      <td>3007</td>\n",
       "      <td>1</td>\n",
       "      <td>One Way</td>\n",
       "      <td>Day Pass</td>\n",
       "      <td>standard</td>\n",
       "    </tr>\n",
       "  </tbody>\n",
       "</table>\n",
       "</div>"
      ],
      "text/plain": [
       "                        _id    trip_id  duration  start_station  end_station  \\\n",
       "0  6010a8e2cf0a73db4776225f  320093117        30           3049         3121   \n",
       "1  6010a8e2cf0a73db47762260  320093114        26           3119         3118   \n",
       "2  6010a8e2cf0a73db47762261  320093115        10           3043         3155   \n",
       "3  6010a8e2cf0a73db47762262  320093116        10           3043         3155   \n",
       "4  6010a8e2cf0a73db47762263  320093113        15           3040         3007   \n",
       "\n",
       "   plan_duration trip_route_category passholder_type bike_type  \n",
       "0             30             One Way        Indego30  standard  \n",
       "1             30             One Way        Indego30  electric  \n",
       "2            365             One Way       Indego365  standard  \n",
       "3             30             One Way        Indego30  standard  \n",
       "4              1             One Way        Day Pass  standard  "
      ]
     },
     "execution_count": 40,
     "metadata": {},
     "output_type": "execute_result"
    }
   ],
   "source": [
    "# Stack the DataFrames on top of each other\n",
    "combined20 = pd.concat([tripQ220_df, tripQ320_df], axis=0)\n",
    "combined20.head()"
   ]
  },
  {
   "cell_type": "code",
   "execution_count": 41,
   "metadata": {},
   "outputs": [
    {
     "name": "stdout",
     "output_type": "stream",
     "text": [
      "<class 'pandas.core.frame.DataFrame'>\n",
      "Int64Index: 545182 entries, 0 to 269984\n",
      "Data columns (total 9 columns):\n",
      " #   Column               Non-Null Count   Dtype \n",
      "---  ------               --------------   ----- \n",
      " 0   _id                  545182 non-null  object\n",
      " 1   trip_id              545182 non-null  int64 \n",
      " 2   duration             545182 non-null  int64 \n",
      " 3   start_station        545182 non-null  int64 \n",
      " 4   end_station          545182 non-null  int64 \n",
      " 5   plan_duration        545182 non-null  int64 \n",
      " 6   trip_route_category  545182 non-null  object\n",
      " 7   passholder_type      545182 non-null  object\n",
      " 8   bike_type            545182 non-null  object\n",
      "dtypes: int64(5), object(4)\n",
      "memory usage: 41.6+ MB\n"
     ]
    }
   ],
   "source": [
    "combined20.info()"
   ]
  },
  {
   "cell_type": "markdown",
   "metadata": {},
   "source": [
    "## Export 2020 Combined Dataframe into CSV File"
   ]
  },
  {
   "cell_type": "code",
   "execution_count": 42,
   "metadata": {},
   "outputs": [],
   "source": [
    "# Export as a CSV from the data of the MongoDB document\n",
    "# Two quarters of 2020\n",
    "combined20.to_csv(\"Output\\combined20.csv\", \",\")"
   ]
  },
  {
   "cell_type": "code",
   "execution_count": null,
   "metadata": {},
   "outputs": [],
   "source": []
  }
 ],
 "metadata": {
  "kernelspec": {
   "display_name": "Python 3",
   "language": "python",
   "name": "python3"
  },
  "language_info": {
   "codemirror_mode": {
    "name": "ipython",
    "version": 3
   },
   "file_extension": ".py",
   "mimetype": "text/x-python",
   "name": "python",
   "nbconvert_exporter": "python",
   "pygments_lexer": "ipython3",
   "version": "3.8.5"
  }
 },
 "nbformat": 4,
 "nbformat_minor": 4
}
